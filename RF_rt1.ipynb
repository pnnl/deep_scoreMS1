{
 "cells": [
  {
   "cell_type": "code",
   "execution_count": 1,
   "id": "519be887-58fb-4852-ac18-43be46e5a788",
   "metadata": {},
   "outputs": [],
   "source": [
    "import numpy as np\n",
    "import pandas as pd\n",
    "import matplotlib.pyplot as plt\n",
    "import sklearn\n",
    "import os\n",
    "%matplotlib inline"
   ]
  },
  {
   "cell_type": "markdown",
   "id": "a6f67455-dd93-4b6c-b4cd-f6037d88b1d9",
   "metadata": {},
   "source": [
    "# load data"
   ]
  },
  {
   "cell_type": "code",
   "execution_count": 2,
   "id": "bd40aaab-36b4-462a-b4cf-ab1ec7eb041d",
   "metadata": {},
   "outputs": [],
   "source": [
    "table = {}\n",
    "\n",
    "for i in glob.glob(\"ms1_training/*\"):\n",
    "    \n",
    "    df = pd.read_csv(i, index_col=0)\n",
    "    binned = bin_time(df, rt_window=1, mz_window=1.0005079)\n",
    "    table[i.replace(\"ms1_training/\",\"\").replace(\"_ms1.csv\", \"\")] = binned\n",
    "    "
   ]
  },
  {
   "cell_type": "code",
   "execution_count": 3,
   "id": "a0e6c16a-1c11-4c1f-88d0-87e81ec9830b",
   "metadata": {},
   "outputs": [],
   "source": [
    "for i in glob.glob(\"ms1_external/*\"):\n",
    "    \n",
    "    df = pd.read_csv(i, index_col=0)\n",
    "    binned = bin_time(df, rt_window=1, mz_window=1.0005079)\n",
    "    table[i.replace(\"ms1_external/\",\"\").replace(\"_ms1.csv\", \"\")] = binned\n",
    "    "
   ]
  },
  {
   "cell_type": "code",
   "execution_count": 4,
   "id": "20f4250a-e37c-4651-8a29-8ee453896753",
   "metadata": {},
   "outputs": [
    {
     "data": {
      "text/html": [
       "<div>\n",
       "<style scoped>\n",
       "    .dataframe tbody tr th:only-of-type {\n",
       "        vertical-align: middle;\n",
       "    }\n",
       "\n",
       "    .dataframe tbody tr th {\n",
       "        vertical-align: top;\n",
       "    }\n",
       "\n",
       "    .dataframe thead th {\n",
       "        text-align: right;\n",
       "    }\n",
       "</style>\n",
       "<table border=\"1\" class=\"dataframe\">\n",
       "  <thead>\n",
       "    <tr style=\"text-align: right;\">\n",
       "      <th></th>\n",
       "      <th>0</th>\n",
       "      <th>1</th>\n",
       "      <th>2</th>\n",
       "      <th>3</th>\n",
       "      <th>4</th>\n",
       "      <th>5</th>\n",
       "      <th>6</th>\n",
       "      <th>7</th>\n",
       "      <th>8</th>\n",
       "      <th>9</th>\n",
       "      <th>...</th>\n",
       "      <th>1790</th>\n",
       "      <th>1791</th>\n",
       "      <th>1792</th>\n",
       "      <th>1793</th>\n",
       "      <th>1794</th>\n",
       "      <th>1795</th>\n",
       "      <th>1796</th>\n",
       "      <th>1797</th>\n",
       "      <th>1798</th>\n",
       "      <th>1799</th>\n",
       "    </tr>\n",
       "  </thead>\n",
       "  <tbody>\n",
       "    <tr>\n",
       "      <th>PXD012749</th>\n",
       "      <td>0.0</td>\n",
       "      <td>0.0</td>\n",
       "      <td>0.0</td>\n",
       "      <td>0.0</td>\n",
       "      <td>0.0</td>\n",
       "      <td>0.0</td>\n",
       "      <td>0.0</td>\n",
       "      <td>0.0</td>\n",
       "      <td>0.0</td>\n",
       "      <td>0.0</td>\n",
       "      <td>...</td>\n",
       "      <td>0.0</td>\n",
       "      <td>0.0</td>\n",
       "      <td>0.0</td>\n",
       "      <td>0.0</td>\n",
       "      <td>0.0</td>\n",
       "      <td>0.0</td>\n",
       "      <td>0.0</td>\n",
       "      <td>0.0</td>\n",
       "      <td>0.0</td>\n",
       "      <td>0.0</td>\n",
       "    </tr>\n",
       "    <tr>\n",
       "      <th>PXD017642</th>\n",
       "      <td>0.0</td>\n",
       "      <td>0.0</td>\n",
       "      <td>0.0</td>\n",
       "      <td>0.0</td>\n",
       "      <td>0.0</td>\n",
       "      <td>0.0</td>\n",
       "      <td>0.0</td>\n",
       "      <td>0.0</td>\n",
       "      <td>0.0</td>\n",
       "      <td>0.0</td>\n",
       "      <td>...</td>\n",
       "      <td>0.0</td>\n",
       "      <td>0.0</td>\n",
       "      <td>0.0</td>\n",
       "      <td>0.0</td>\n",
       "      <td>0.0</td>\n",
       "      <td>0.0</td>\n",
       "      <td>0.0</td>\n",
       "      <td>0.0</td>\n",
       "      <td>0.0</td>\n",
       "      <td>0.0</td>\n",
       "    </tr>\n",
       "    <tr>\n",
       "      <th>PXD016156</th>\n",
       "      <td>0.0</td>\n",
       "      <td>0.0</td>\n",
       "      <td>0.0</td>\n",
       "      <td>0.0</td>\n",
       "      <td>0.0</td>\n",
       "      <td>0.0</td>\n",
       "      <td>0.0</td>\n",
       "      <td>0.0</td>\n",
       "      <td>0.0</td>\n",
       "      <td>0.0</td>\n",
       "      <td>...</td>\n",
       "      <td>0.0</td>\n",
       "      <td>0.0</td>\n",
       "      <td>0.0</td>\n",
       "      <td>0.0</td>\n",
       "      <td>0.0</td>\n",
       "      <td>0.0</td>\n",
       "      <td>0.0</td>\n",
       "      <td>0.0</td>\n",
       "      <td>0.0</td>\n",
       "      <td>0.0</td>\n",
       "    </tr>\n",
       "    <tr>\n",
       "      <th>PXD014736</th>\n",
       "      <td>0.0</td>\n",
       "      <td>0.0</td>\n",
       "      <td>0.0</td>\n",
       "      <td>0.0</td>\n",
       "      <td>0.0</td>\n",
       "      <td>0.0</td>\n",
       "      <td>0.0</td>\n",
       "      <td>0.0</td>\n",
       "      <td>0.0</td>\n",
       "      <td>0.0</td>\n",
       "      <td>...</td>\n",
       "      <td>0.0</td>\n",
       "      <td>0.0</td>\n",
       "      <td>0.0</td>\n",
       "      <td>0.0</td>\n",
       "      <td>0.0</td>\n",
       "      <td>0.0</td>\n",
       "      <td>0.0</td>\n",
       "      <td>0.0</td>\n",
       "      <td>0.0</td>\n",
       "      <td>0.0</td>\n",
       "    </tr>\n",
       "    <tr>\n",
       "      <th>PXD003409</th>\n",
       "      <td>0.0</td>\n",
       "      <td>0.0</td>\n",
       "      <td>0.0</td>\n",
       "      <td>0.0</td>\n",
       "      <td>0.0</td>\n",
       "      <td>0.0</td>\n",
       "      <td>0.0</td>\n",
       "      <td>0.0</td>\n",
       "      <td>0.0</td>\n",
       "      <td>0.0</td>\n",
       "      <td>...</td>\n",
       "      <td>0.0</td>\n",
       "      <td>0.0</td>\n",
       "      <td>0.0</td>\n",
       "      <td>0.0</td>\n",
       "      <td>0.0</td>\n",
       "      <td>0.0</td>\n",
       "      <td>0.0</td>\n",
       "      <td>0.0</td>\n",
       "      <td>0.0</td>\n",
       "      <td>0.0</td>\n",
       "    </tr>\n",
       "    <tr>\n",
       "      <th>...</th>\n",
       "      <td>...</td>\n",
       "      <td>...</td>\n",
       "      <td>...</td>\n",
       "      <td>...</td>\n",
       "      <td>...</td>\n",
       "      <td>...</td>\n",
       "      <td>...</td>\n",
       "      <td>...</td>\n",
       "      <td>...</td>\n",
       "      <td>...</td>\n",
       "      <td>...</td>\n",
       "      <td>...</td>\n",
       "      <td>...</td>\n",
       "      <td>...</td>\n",
       "      <td>...</td>\n",
       "      <td>...</td>\n",
       "      <td>...</td>\n",
       "      <td>...</td>\n",
       "      <td>...</td>\n",
       "      <td>...</td>\n",
       "      <td>...</td>\n",
       "    </tr>\n",
       "    <tr>\n",
       "      <th>PXD000759</th>\n",
       "      <td>0.0</td>\n",
       "      <td>0.0</td>\n",
       "      <td>0.0</td>\n",
       "      <td>0.0</td>\n",
       "      <td>0.0</td>\n",
       "      <td>0.0</td>\n",
       "      <td>0.0</td>\n",
       "      <td>0.0</td>\n",
       "      <td>0.0</td>\n",
       "      <td>0.0</td>\n",
       "      <td>...</td>\n",
       "      <td>0.0</td>\n",
       "      <td>0.0</td>\n",
       "      <td>0.0</td>\n",
       "      <td>0.0</td>\n",
       "      <td>0.0</td>\n",
       "      <td>0.0</td>\n",
       "      <td>0.0</td>\n",
       "      <td>0.0</td>\n",
       "      <td>0.0</td>\n",
       "      <td>0.0</td>\n",
       "    </tr>\n",
       "    <tr>\n",
       "      <th>PXD020329</th>\n",
       "      <td>0.0</td>\n",
       "      <td>0.0</td>\n",
       "      <td>0.0</td>\n",
       "      <td>0.0</td>\n",
       "      <td>0.0</td>\n",
       "      <td>0.0</td>\n",
       "      <td>0.0</td>\n",
       "      <td>0.0</td>\n",
       "      <td>0.0</td>\n",
       "      <td>0.0</td>\n",
       "      <td>...</td>\n",
       "      <td>0.0</td>\n",
       "      <td>0.0</td>\n",
       "      <td>0.0</td>\n",
       "      <td>0.0</td>\n",
       "      <td>0.0</td>\n",
       "      <td>0.0</td>\n",
       "      <td>0.0</td>\n",
       "      <td>0.0</td>\n",
       "      <td>0.0</td>\n",
       "      <td>0.0</td>\n",
       "    </tr>\n",
       "    <tr>\n",
       "      <th>PXD009443</th>\n",
       "      <td>0.0</td>\n",
       "      <td>0.0</td>\n",
       "      <td>0.0</td>\n",
       "      <td>0.0</td>\n",
       "      <td>0.0</td>\n",
       "      <td>0.0</td>\n",
       "      <td>0.0</td>\n",
       "      <td>0.0</td>\n",
       "      <td>0.0</td>\n",
       "      <td>0.0</td>\n",
       "      <td>...</td>\n",
       "      <td>0.0</td>\n",
       "      <td>0.0</td>\n",
       "      <td>0.0</td>\n",
       "      <td>0.0</td>\n",
       "      <td>0.0</td>\n",
       "      <td>0.0</td>\n",
       "      <td>0.0</td>\n",
       "      <td>0.0</td>\n",
       "      <td>0.0</td>\n",
       "      <td>0.0</td>\n",
       "    </tr>\n",
       "    <tr>\n",
       "      <th>PXD015280</th>\n",
       "      <td>0.0</td>\n",
       "      <td>0.0</td>\n",
       "      <td>0.0</td>\n",
       "      <td>0.0</td>\n",
       "      <td>0.0</td>\n",
       "      <td>0.0</td>\n",
       "      <td>0.0</td>\n",
       "      <td>0.0</td>\n",
       "      <td>0.0</td>\n",
       "      <td>0.0</td>\n",
       "      <td>...</td>\n",
       "      <td>0.0</td>\n",
       "      <td>0.0</td>\n",
       "      <td>0.0</td>\n",
       "      <td>0.0</td>\n",
       "      <td>0.0</td>\n",
       "      <td>0.0</td>\n",
       "      <td>0.0</td>\n",
       "      <td>0.0</td>\n",
       "      <td>0.0</td>\n",
       "      <td>0.0</td>\n",
       "    </tr>\n",
       "    <tr>\n",
       "      <th>PXD017060</th>\n",
       "      <td>0.0</td>\n",
       "      <td>0.0</td>\n",
       "      <td>0.0</td>\n",
       "      <td>0.0</td>\n",
       "      <td>0.0</td>\n",
       "      <td>0.0</td>\n",
       "      <td>0.0</td>\n",
       "      <td>0.0</td>\n",
       "      <td>0.0</td>\n",
       "      <td>0.0</td>\n",
       "      <td>...</td>\n",
       "      <td>0.0</td>\n",
       "      <td>0.0</td>\n",
       "      <td>0.0</td>\n",
       "      <td>0.0</td>\n",
       "      <td>0.0</td>\n",
       "      <td>0.0</td>\n",
       "      <td>0.0</td>\n",
       "      <td>0.0</td>\n",
       "      <td>0.0</td>\n",
       "      <td>0.0</td>\n",
       "    </tr>\n",
       "  </tbody>\n",
       "</table>\n",
       "<p>966 rows × 1800 columns</p>\n",
       "</div>"
      ],
      "text/plain": [
       "           0     1     2     3     4     5     6     7     8     9     ...  \\\n",
       "PXD012749   0.0   0.0   0.0   0.0   0.0   0.0   0.0   0.0   0.0   0.0  ...   \n",
       "PXD017642   0.0   0.0   0.0   0.0   0.0   0.0   0.0   0.0   0.0   0.0  ...   \n",
       "PXD016156   0.0   0.0   0.0   0.0   0.0   0.0   0.0   0.0   0.0   0.0  ...   \n",
       "PXD014736   0.0   0.0   0.0   0.0   0.0   0.0   0.0   0.0   0.0   0.0  ...   \n",
       "PXD003409   0.0   0.0   0.0   0.0   0.0   0.0   0.0   0.0   0.0   0.0  ...   \n",
       "...         ...   ...   ...   ...   ...   ...   ...   ...   ...   ...  ...   \n",
       "PXD000759   0.0   0.0   0.0   0.0   0.0   0.0   0.0   0.0   0.0   0.0  ...   \n",
       "PXD020329   0.0   0.0   0.0   0.0   0.0   0.0   0.0   0.0   0.0   0.0  ...   \n",
       "PXD009443   0.0   0.0   0.0   0.0   0.0   0.0   0.0   0.0   0.0   0.0  ...   \n",
       "PXD015280   0.0   0.0   0.0   0.0   0.0   0.0   0.0   0.0   0.0   0.0  ...   \n",
       "PXD017060   0.0   0.0   0.0   0.0   0.0   0.0   0.0   0.0   0.0   0.0  ...   \n",
       "\n",
       "           1790  1791  1792  1793  1794  1795  1796  1797  1798  1799  \n",
       "PXD012749   0.0   0.0   0.0   0.0   0.0   0.0   0.0   0.0   0.0   0.0  \n",
       "PXD017642   0.0   0.0   0.0   0.0   0.0   0.0   0.0   0.0   0.0   0.0  \n",
       "PXD016156   0.0   0.0   0.0   0.0   0.0   0.0   0.0   0.0   0.0   0.0  \n",
       "PXD014736   0.0   0.0   0.0   0.0   0.0   0.0   0.0   0.0   0.0   0.0  \n",
       "PXD003409   0.0   0.0   0.0   0.0   0.0   0.0   0.0   0.0   0.0   0.0  \n",
       "...         ...   ...   ...   ...   ...   ...   ...   ...   ...   ...  \n",
       "PXD000759   0.0   0.0   0.0   0.0   0.0   0.0   0.0   0.0   0.0   0.0  \n",
       "PXD020329   0.0   0.0   0.0   0.0   0.0   0.0   0.0   0.0   0.0   0.0  \n",
       "PXD009443   0.0   0.0   0.0   0.0   0.0   0.0   0.0   0.0   0.0   0.0  \n",
       "PXD015280   0.0   0.0   0.0   0.0   0.0   0.0   0.0   0.0   0.0   0.0  \n",
       "PXD017060   0.0   0.0   0.0   0.0   0.0   0.0   0.0   0.0   0.0   0.0  \n",
       "\n",
       "[966 rows x 1800 columns]"
      ]
     },
     "execution_count": 4,
     "metadata": {},
     "output_type": "execute_result"
    }
   ],
   "source": [
    "df = pd.DataFrame(table).transpose()\n",
    "df = df.apply(lambda x: x/x.max(), axis=1)\n",
    "df"
   ]
  },
  {
   "cell_type": "code",
   "execution_count": null,
   "id": "a4398cc8-028b-4f84-bfa1-52aa5bfb5e25",
   "metadata": {},
   "outputs": [],
   "source": []
  },
  {
   "cell_type": "code",
   "execution_count": null,
   "id": "244cca5a-f091-4620-8347-23a777f38689",
   "metadata": {},
   "outputs": [],
   "source": []
  },
  {
   "cell_type": "markdown",
   "id": "0d2c516c-8d8d-416a-b44d-601f7c7853ad",
   "metadata": {},
   "source": [
    "# Setup training data"
   ]
  },
  {
   "cell_type": "code",
   "execution_count": 8,
   "id": "68143360-eb41-4ca9-a0d4-28e19b325293",
   "metadata": {},
   "outputs": [
    {
     "data": {
      "text/html": [
       "<div>\n",
       "<style scoped>\n",
       "    .dataframe tbody tr th:only-of-type {\n",
       "        vertical-align: middle;\n",
       "    }\n",
       "\n",
       "    .dataframe tbody tr th {\n",
       "        vertical-align: top;\n",
       "    }\n",
       "\n",
       "    .dataframe thead th {\n",
       "        text-align: right;\n",
       "    }\n",
       "</style>\n",
       "<table border=\"1\" class=\"dataframe\">\n",
       "  <thead>\n",
       "    <tr style=\"text-align: right;\">\n",
       "      <th></th>\n",
       "      <th>PID1</th>\n",
       "      <th>PID2</th>\n",
       "      <th>Jaccard_Index</th>\n",
       "    </tr>\n",
       "  </thead>\n",
       "  <tbody>\n",
       "    <tr>\n",
       "      <th>0</th>\n",
       "      <td>PXD002434</td>\n",
       "      <td>PXD012611</td>\n",
       "      <td>0.000000</td>\n",
       "    </tr>\n",
       "    <tr>\n",
       "      <th>1</th>\n",
       "      <td>PXD018291</td>\n",
       "      <td>PXD014062</td>\n",
       "      <td>0.000000</td>\n",
       "    </tr>\n",
       "    <tr>\n",
       "      <th>2</th>\n",
       "      <td>PXD006539</td>\n",
       "      <td>PXD000050</td>\n",
       "      <td>0.000000</td>\n",
       "    </tr>\n",
       "    <tr>\n",
       "      <th>3</th>\n",
       "      <td>PXD018291</td>\n",
       "      <td>PXD002552</td>\n",
       "      <td>0.000000</td>\n",
       "    </tr>\n",
       "    <tr>\n",
       "      <th>4</th>\n",
       "      <td>PXD006539</td>\n",
       "      <td>PXD011152</td>\n",
       "      <td>0.000000</td>\n",
       "    </tr>\n",
       "    <tr>\n",
       "      <th>...</th>\n",
       "      <td>...</td>\n",
       "      <td>...</td>\n",
       "      <td>...</td>\n",
       "    </tr>\n",
       "    <tr>\n",
       "      <th>404545</th>\n",
       "      <td>PXD002087</td>\n",
       "      <td>PXD005353</td>\n",
       "      <td>0.497725</td>\n",
       "    </tr>\n",
       "    <tr>\n",
       "      <th>404546</th>\n",
       "      <td>PXD002212</td>\n",
       "      <td>PXD002211</td>\n",
       "      <td>0.514724</td>\n",
       "    </tr>\n",
       "    <tr>\n",
       "      <th>404547</th>\n",
       "      <td>PXD002081</td>\n",
       "      <td>PXD002046</td>\n",
       "      <td>0.531152</td>\n",
       "    </tr>\n",
       "    <tr>\n",
       "      <th>404548</th>\n",
       "      <td>PXD002081</td>\n",
       "      <td>PXD002085</td>\n",
       "      <td>0.542056</td>\n",
       "    </tr>\n",
       "    <tr>\n",
       "      <th>404549</th>\n",
       "      <td>PXD021677</td>\n",
       "      <td>PXD004242</td>\n",
       "      <td>0.679811</td>\n",
       "    </tr>\n",
       "  </tbody>\n",
       "</table>\n",
       "<p>404550 rows × 3 columns</p>\n",
       "</div>"
      ],
      "text/plain": [
       "             PID1       PID2  Jaccard_Index\n",
       "0       PXD002434  PXD012611       0.000000\n",
       "1       PXD018291  PXD014062       0.000000\n",
       "2       PXD006539  PXD000050       0.000000\n",
       "3       PXD018291  PXD002552       0.000000\n",
       "4       PXD006539  PXD011152       0.000000\n",
       "...           ...        ...            ...\n",
       "404545  PXD002087  PXD005353       0.497725\n",
       "404546  PXD002212  PXD002211       0.514724\n",
       "404547  PXD002081  PXD002046       0.531152\n",
       "404548  PXD002081  PXD002085       0.542056\n",
       "404549  PXD021677  PXD004242       0.679811\n",
       "\n",
       "[404550 rows x 3 columns]"
      ]
     },
     "execution_count": 8,
     "metadata": {},
     "output_type": "execute_result"
    }
   ],
   "source": [
    "#test = pd.read_csv(\"../train_data/train_pairs_proteinID.txt\")\n",
    "pairs = pd.read_csv(\"train_pairs.txt\")\n",
    "pairs"
   ]
  },
  {
   "cell_type": "code",
   "execution_count": 9,
   "id": "a20d77f6-4802-4d66-9c9a-b73f9322d423",
   "metadata": {},
   "outputs": [],
   "source": [
    "from sklearn.model_selection import train_test_split\n",
    "\n",
    "train, test = train_test_split(pairs, test_size=0.2, random_state=42)"
   ]
  },
  {
   "cell_type": "code",
   "execution_count": 10,
   "id": "7ebdcae6-c32d-4ae9-bbdb-4d97304f3639",
   "metadata": {},
   "outputs": [
    {
     "data": {
      "text/html": [
       "<div>\n",
       "<style scoped>\n",
       "    .dataframe tbody tr th:only-of-type {\n",
       "        vertical-align: middle;\n",
       "    }\n",
       "\n",
       "    .dataframe tbody tr th {\n",
       "        vertical-align: top;\n",
       "    }\n",
       "\n",
       "    .dataframe thead th {\n",
       "        text-align: right;\n",
       "    }\n",
       "</style>\n",
       "<table border=\"1\" class=\"dataframe\">\n",
       "  <thead>\n",
       "    <tr style=\"text-align: right;\">\n",
       "      <th></th>\n",
       "      <th>PID1</th>\n",
       "      <th>PID2</th>\n",
       "      <th>Jaccard_Index</th>\n",
       "    </tr>\n",
       "  </thead>\n",
       "  <tbody>\n",
       "    <tr>\n",
       "      <th>24597</th>\n",
       "      <td>PXD006236</td>\n",
       "      <td>PXD018300</td>\n",
       "      <td>0.000000</td>\n",
       "    </tr>\n",
       "    <tr>\n",
       "      <th>4874</th>\n",
       "      <td>PXD017386</td>\n",
       "      <td>PXD009683</td>\n",
       "      <td>0.000000</td>\n",
       "    </tr>\n",
       "    <tr>\n",
       "      <th>1450</th>\n",
       "      <td>PXD010237</td>\n",
       "      <td>PXD011085</td>\n",
       "      <td>0.000000</td>\n",
       "    </tr>\n",
       "    <tr>\n",
       "      <th>12451</th>\n",
       "      <td>PXD021198</td>\n",
       "      <td>PXD009595</td>\n",
       "      <td>0.000000</td>\n",
       "    </tr>\n",
       "    <tr>\n",
       "      <th>2536</th>\n",
       "      <td>PXD006008</td>\n",
       "      <td>PXD010944</td>\n",
       "      <td>0.000000</td>\n",
       "    </tr>\n",
       "    <tr>\n",
       "      <th>...</th>\n",
       "      <td>...</td>\n",
       "      <td>...</td>\n",
       "      <td>...</td>\n",
       "    </tr>\n",
       "    <tr>\n",
       "      <th>404542</th>\n",
       "      <td>PXD002081</td>\n",
       "      <td>PXD002082</td>\n",
       "      <td>0.448373</td>\n",
       "    </tr>\n",
       "    <tr>\n",
       "      <th>404543</th>\n",
       "      <td>PXD002087</td>\n",
       "      <td>PXD002046</td>\n",
       "      <td>0.452747</td>\n",
       "    </tr>\n",
       "    <tr>\n",
       "      <th>404544</th>\n",
       "      <td>PXD002081</td>\n",
       "      <td>PXD005353</td>\n",
       "      <td>0.457388</td>\n",
       "    </tr>\n",
       "    <tr>\n",
       "      <th>404546</th>\n",
       "      <td>PXD002212</td>\n",
       "      <td>PXD002211</td>\n",
       "      <td>0.514724</td>\n",
       "    </tr>\n",
       "    <tr>\n",
       "      <th>404548</th>\n",
       "      <td>PXD002081</td>\n",
       "      <td>PXD002085</td>\n",
       "      <td>0.542056</td>\n",
       "    </tr>\n",
       "  </tbody>\n",
       "</table>\n",
       "<p>323640 rows × 3 columns</p>\n",
       "</div>"
      ],
      "text/plain": [
       "             PID1       PID2  Jaccard_Index\n",
       "24597   PXD006236  PXD018300       0.000000\n",
       "4874    PXD017386  PXD009683       0.000000\n",
       "1450    PXD010237  PXD011085       0.000000\n",
       "12451   PXD021198  PXD009595       0.000000\n",
       "2536    PXD006008  PXD010944       0.000000\n",
       "...           ...        ...            ...\n",
       "404542  PXD002081  PXD002082       0.448373\n",
       "404543  PXD002087  PXD002046       0.452747\n",
       "404544  PXD002081  PXD005353       0.457388\n",
       "404546  PXD002212  PXD002211       0.514724\n",
       "404548  PXD002081  PXD002085       0.542056\n",
       "\n",
       "[323640 rows x 3 columns]"
      ]
     },
     "execution_count": 10,
     "metadata": {},
     "output_type": "execute_result"
    }
   ],
   "source": [
    "train.sort_values(by=[\"Jaccard_Index\"])"
   ]
  },
  {
   "cell_type": "code",
   "execution_count": 11,
   "id": "8e830d3e-e917-4e70-890d-8d97866d1a6b",
   "metadata": {},
   "outputs": [
    {
     "data": {
      "text/plain": [
       "array([0.00465116, 0.        , 0.00389105, ..., 0.00345871, 0.0042735 ,\n",
       "       0.00297619])"
      ]
     },
     "execution_count": 11,
     "metadata": {},
     "output_type": "execute_result"
    }
   ],
   "source": [
    "score = train['Jaccard_Index'].values\n",
    "score"
   ]
  },
  {
   "cell_type": "code",
   "execution_count": 12,
   "id": "348908d9-22f5-45e8-b243-402161fd2d7d",
   "metadata": {},
   "outputs": [],
   "source": [
    "training_set = []\n",
    "\n",
    "for index, row in train.iterrows():\n",
    "    \n",
    "#    if (row['PID1'] in df.index) and (row['PID2'] in df.index):\n",
    "    \n",
    "    testing = np.hstack(( np.array(df.loc[row['PID1']]), np.array(df.loc[row['PID2']])))\n",
    "    \n",
    "    training_set.append(testing)"
   ]
  },
  {
   "cell_type": "code",
   "execution_count": 13,
   "id": "8f539e9b-aa51-4d59-a18e-d6896205e818",
   "metadata": {},
   "outputs": [
    {
     "data": {
      "text/plain": [
       "3600"
      ]
     },
     "execution_count": 13,
     "metadata": {},
     "output_type": "execute_result"
    }
   ],
   "source": [
    "len(training_set[0])"
   ]
  },
  {
   "cell_type": "code",
   "execution_count": 14,
   "id": "e24e8249-3c80-4596-a4a2-f631f7268dee",
   "metadata": {},
   "outputs": [
    {
     "data": {
      "text/plain": [
       "(323640, 3600)"
      ]
     },
     "execution_count": 14,
     "metadata": {},
     "output_type": "execute_result"
    }
   ],
   "source": [
    "training_set = np.array(training_set)\n",
    "np.shape(training_set)"
   ]
  },
  {
   "cell_type": "markdown",
   "id": "5425a089-2284-4c04-9733-9dc29e25dd1f",
   "metadata": {},
   "source": [
    "# Test Set - Internal"
   ]
  },
  {
   "cell_type": "code",
   "execution_count": 15,
   "id": "a0062e32-6fe0-47a0-8372-5c77037a9e6a",
   "metadata": {},
   "outputs": [],
   "source": [
    "testing_set = []\n",
    "\n",
    "for index, row in test.iterrows():\n",
    "    \n",
    "#    if (row['PID1'] in df.index) and (row['PID2'] in df.index):\n",
    "    \n",
    "    testing = np.hstack(( np.array(df.loc[row['PID1']]), np.array(df.loc[row['PID2']])))\n",
    "    \n",
    "    testing_set.append(testing)"
   ]
  },
  {
   "cell_type": "code",
   "execution_count": 16,
   "id": "fa14459f-eb70-4b47-9844-eedec3ddf817",
   "metadata": {},
   "outputs": [
    {
     "data": {
      "text/plain": [
       "array([0.01551812, 0.03440539, 0.0377095 , ..., 0.        , 0.00108571,\n",
       "       0.00575898])"
      ]
     },
     "execution_count": 16,
     "metadata": {},
     "output_type": "execute_result"
    }
   ],
   "source": [
    "test_score = test[\"Jaccard_Index\"].values\n",
    "test_score"
   ]
  },
  {
   "cell_type": "code",
   "execution_count": 17,
   "id": "e5255772-d738-42c3-9fdc-62862f7f8b4a",
   "metadata": {},
   "outputs": [
    {
     "data": {
      "text/plain": [
       "(80910, 3600)"
      ]
     },
     "execution_count": 17,
     "metadata": {},
     "output_type": "execute_result"
    }
   ],
   "source": [
    "testing_set = np.array(testing_set)\n",
    "np.shape(testing_set)"
   ]
  },
  {
   "cell_type": "markdown",
   "id": "e9990adb-00a7-4b7a-9e48-6f94a4f34854",
   "metadata": {},
   "source": [
    "# Second Validation Set (External)"
   ]
  },
  {
   "cell_type": "code",
   "execution_count": 18,
   "id": "fe83feb2-e947-4512-ae8c-0db92b0f9ad1",
   "metadata": {},
   "outputs": [
    {
     "data": {
      "text/html": [
       "<div>\n",
       "<style scoped>\n",
       "    .dataframe tbody tr th:only-of-type {\n",
       "        vertical-align: middle;\n",
       "    }\n",
       "\n",
       "    .dataframe tbody tr th {\n",
       "        vertical-align: top;\n",
       "    }\n",
       "\n",
       "    .dataframe thead th {\n",
       "        text-align: right;\n",
       "    }\n",
       "</style>\n",
       "<table border=\"1\" class=\"dataframe\">\n",
       "  <thead>\n",
       "    <tr style=\"text-align: right;\">\n",
       "      <th></th>\n",
       "      <th>PID1</th>\n",
       "      <th>PID2</th>\n",
       "      <th>Jaccard_Index</th>\n",
       "    </tr>\n",
       "  </thead>\n",
       "  <tbody>\n",
       "    <tr>\n",
       "      <th>0</th>\n",
       "      <td>PXD005184</td>\n",
       "      <td>PXD016001</td>\n",
       "      <td>0.000000</td>\n",
       "    </tr>\n",
       "    <tr>\n",
       "      <th>1</th>\n",
       "      <td>PXD005184</td>\n",
       "      <td>PXD002548</td>\n",
       "      <td>0.000000</td>\n",
       "    </tr>\n",
       "    <tr>\n",
       "      <th>2</th>\n",
       "      <td>PXD018048</td>\n",
       "      <td>PXD017336</td>\n",
       "      <td>0.000000</td>\n",
       "    </tr>\n",
       "    <tr>\n",
       "      <th>3</th>\n",
       "      <td>PXD003105</td>\n",
       "      <td>PXD002548</td>\n",
       "      <td>0.000000</td>\n",
       "    </tr>\n",
       "    <tr>\n",
       "      <th>4</th>\n",
       "      <td>PXD016680</td>\n",
       "      <td>PXD017336</td>\n",
       "      <td>0.000000</td>\n",
       "    </tr>\n",
       "    <tr>\n",
       "      <th>...</th>\n",
       "      <td>...</td>\n",
       "      <td>...</td>\n",
       "      <td>...</td>\n",
       "    </tr>\n",
       "    <tr>\n",
       "      <th>2140</th>\n",
       "      <td>PXD007864</td>\n",
       "      <td>PXD016001</td>\n",
       "      <td>0.203302</td>\n",
       "    </tr>\n",
       "    <tr>\n",
       "      <th>2141</th>\n",
       "      <td>PXD015369</td>\n",
       "      <td>PXD006332</td>\n",
       "      <td>0.209389</td>\n",
       "    </tr>\n",
       "    <tr>\n",
       "      <th>2142</th>\n",
       "      <td>PXD009687</td>\n",
       "      <td>PXD006332</td>\n",
       "      <td>0.228904</td>\n",
       "    </tr>\n",
       "    <tr>\n",
       "      <th>2143</th>\n",
       "      <td>PXD029420</td>\n",
       "      <td>PXD025626</td>\n",
       "      <td>0.232863</td>\n",
       "    </tr>\n",
       "    <tr>\n",
       "      <th>2144</th>\n",
       "      <td>PXD029420</td>\n",
       "      <td>PXD015369</td>\n",
       "      <td>0.247101</td>\n",
       "    </tr>\n",
       "  </tbody>\n",
       "</table>\n",
       "<p>2145 rows × 3 columns</p>\n",
       "</div>"
      ],
      "text/plain": [
       "           PID1       PID2  Jaccard_Index\n",
       "0     PXD005184  PXD016001       0.000000\n",
       "1     PXD005184  PXD002548       0.000000\n",
       "2     PXD018048  PXD017336       0.000000\n",
       "3     PXD003105  PXD002548       0.000000\n",
       "4     PXD016680  PXD017336       0.000000\n",
       "...         ...        ...            ...\n",
       "2140  PXD007864  PXD016001       0.203302\n",
       "2141  PXD015369  PXD006332       0.209389\n",
       "2142  PXD009687  PXD006332       0.228904\n",
       "2143  PXD029420  PXD025626       0.232863\n",
       "2144  PXD029420  PXD015369       0.247101\n",
       "\n",
       "[2145 rows x 3 columns]"
      ]
     },
     "execution_count": 18,
     "metadata": {},
     "output_type": "execute_result"
    }
   ],
   "source": [
    "#test2 = pd.read_csv(\"../test_data/test_pairs_proteinID.txt\")\n",
    "test2 = pd.read_csv(\"test_pairs.txt\")\n",
    "test2"
   ]
  },
  {
   "cell_type": "code",
   "execution_count": 19,
   "id": "1e271d79-635b-42c1-b2cc-7202963b0295",
   "metadata": {},
   "outputs": [],
   "source": [
    "testing_set2 = []\n",
    "\n",
    "for index, row in test2.iterrows():\n",
    "    \n",
    "#    if (row['PID1'] in df.index) and (row['PID2'] in df.index):\n",
    "    \n",
    "    testing = np.hstack(( np.array(df.loc[row['PID1']]), np.array(df.loc[row['PID2']] )))\n",
    "    \n",
    "    testing_set2.append(testing)"
   ]
  },
  {
   "cell_type": "code",
   "execution_count": 20,
   "id": "a5f393ce-0166-4aa5-b498-be3c9391f15d",
   "metadata": {},
   "outputs": [
    {
     "data": {
      "text/plain": [
       "(2145, 3600)"
      ]
     },
     "execution_count": 20,
     "metadata": {},
     "output_type": "execute_result"
    }
   ],
   "source": [
    "testing_set2 = np.array(testing_set2)\n",
    "np.shape(testing_set2)"
   ]
  },
  {
   "cell_type": "code",
   "execution_count": 21,
   "id": "b694230a-5fac-46e5-ad5e-66ffac118821",
   "metadata": {},
   "outputs": [],
   "source": [
    "testing_score2 = test2['Jaccard_Index']"
   ]
  },
  {
   "cell_type": "markdown",
   "id": "c5376080-1b4b-4ea9-9810-495ce14ea526",
   "metadata": {},
   "source": [
    "# Setup internal test set"
   ]
  },
  {
   "cell_type": "markdown",
   "id": "d2da20a5-7626-466e-a2b2-19b989dce79b",
   "metadata": {},
   "source": [
    "# RF Training"
   ]
  },
  {
   "cell_type": "code",
   "execution_count": 26,
   "id": "08d12e82-3534-4637-9e0f-01a2fc884b0d",
   "metadata": {},
   "outputs": [],
   "source": [
    "from sklearn.ensemble import RandomForestRegressor"
   ]
  },
  {
   "cell_type": "code",
   "execution_count": 24,
   "id": "9363c8c7-af2b-4ab8-81c2-e9115f888710",
   "metadata": {},
   "outputs": [],
   "source": [
    "clf = RandomForestRegressor()"
   ]
  },
  {
   "cell_type": "code",
   "execution_count": 25,
   "id": "97dbdf25-26e5-4b19-9736-5f899492c861",
   "metadata": {},
   "outputs": [
    {
     "name": "stdout",
     "output_type": "stream",
     "text": [
      "CPU times: user 9h 14min 24s, sys: 18min 17s, total: 9h 32min 41s\n",
      "Wall time: 1d 16h 5min 34s\n"
     ]
    },
    {
     "data": {
      "text/plain": [
       "RandomForestRegressor()"
      ]
     },
     "execution_count": 25,
     "metadata": {},
     "output_type": "execute_result"
    }
   ],
   "source": [
    "%time clf.fit(training_set, score)"
   ]
  },
  {
   "cell_type": "code",
   "execution_count": 26,
   "id": "1a4bacbc-0685-4b1b-b505-3e47e16ea713",
   "metadata": {},
   "outputs": [],
   "source": [
    "import pickle\n",
    "\n",
    "# save\n",
    "with open('RF_rt1','wb') as f:\n",
    "    pickle.dump(clf,f)"
   ]
  },
  {
   "cell_type": "code",
   "execution_count": 27,
   "id": "62ae1f73-7d61-4600-9128-812225e62920",
   "metadata": {},
   "outputs": [
    {
     "data": {
      "text/plain": [
       "RandomForestRegressor()"
      ]
     },
     "execution_count": 27,
     "metadata": {},
     "output_type": "execute_result"
    }
   ],
   "source": [
    "import pickle\n",
    "\n",
    "clf = pickle.load(open(\"RF_rt1.pkl\", 'rb'))\n",
    "clf"
   ]
  },
  {
   "cell_type": "markdown",
   "id": "97f15cb6-c317-4850-9e23-84c5b10bbc77",
   "metadata": {},
   "source": [
    "# External Test Time"
   ]
  },
  {
   "cell_type": "code",
   "execution_count": 28,
   "id": "61615914-61b5-44ab-b9ad-af58126e0316",
   "metadata": {},
   "outputs": [],
   "source": [
    "predicted_training = clf.predict(testing_set2)\n",
    "#predicted_training = [i[0] for i in predicted_training]"
   ]
  },
  {
   "cell_type": "code",
   "execution_count": 29,
   "id": "e7c4dc0f-67e0-4d32-a1fc-d65971a44507",
   "metadata": {},
   "outputs": [
    {
     "data": {
      "text/plain": [
       "2145"
      ]
     },
     "execution_count": 29,
     "metadata": {},
     "output_type": "execute_result"
    }
   ],
   "source": [
    "len(predicted_training)"
   ]
  },
  {
   "cell_type": "code",
   "execution_count": 30,
   "id": "6d2e4683-2528-4144-a3a2-5fcfef5f18f9",
   "metadata": {},
   "outputs": [
    {
     "data": {
      "text/plain": [
       "array([0.00946699, 0.01488032, 0.01821417, ..., 0.0932038 , 0.14199256,\n",
       "       0.16670069])"
      ]
     },
     "execution_count": 30,
     "metadata": {},
     "output_type": "execute_result"
    }
   ],
   "source": [
    "np.array(predicted_training)"
   ]
  },
  {
   "cell_type": "code",
   "execution_count": 31,
   "id": "5c62f338-0208-4847-b1ba-d27e092a9d9d",
   "metadata": {},
   "outputs": [
    {
     "data": {
      "text/plain": [
       "array([0.        , 0.        , 0.        , ..., 0.2289044 , 0.23286256,\n",
       "       0.24710128])"
      ]
     },
     "execution_count": 31,
     "metadata": {},
     "output_type": "execute_result"
    }
   ],
   "source": [
    "np.array([i for i in testing_score2])"
   ]
  },
  {
   "cell_type": "code",
   "execution_count": 32,
   "id": "ad350ae6-8c52-4df8-9e9e-b0ce22db6356",
   "metadata": {},
   "outputs": [
    {
     "data": {
      "text/plain": [
       "(0.5609655814219301, 4.4174185654711806e-178)"
      ]
     },
     "execution_count": 32,
     "metadata": {},
     "output_type": "execute_result"
    }
   ],
   "source": [
    "from scipy import stats\n",
    "\n",
    "stats.pearsonr(testing_score2, predicted_training)"
   ]
  },
  {
   "cell_type": "code",
   "execution_count": 33,
   "id": "061d16f4-649a-4ddc-a7cf-9ea059ee7c00",
   "metadata": {},
   "outputs": [
    {
     "data": {
      "text/plain": [
       "0.0005314797474903332"
      ]
     },
     "execution_count": 33,
     "metadata": {},
     "output_type": "execute_result"
    }
   ],
   "source": [
    "sklearn.metrics.mean_squared_error(testing_score2, predicted_training)"
   ]
  },
  {
   "cell_type": "code",
   "execution_count": 34,
   "id": "1eb6cf0a-4fd0-42c5-b27c-4f3d28f6d198",
   "metadata": {},
   "outputs": [
    {
     "data": {
      "text/plain": [
       "0.0166899630304733"
      ]
     },
     "execution_count": 34,
     "metadata": {},
     "output_type": "execute_result"
    }
   ],
   "source": [
    "sklearn.metrics.mean_absolute_error(testing_score2, predicted_training)"
   ]
  },
  {
   "cell_type": "markdown",
   "id": "006069ba-3c3c-4562-bdd3-00d6a9dcbea2",
   "metadata": {},
   "source": [
    "# Internal Test"
   ]
  },
  {
   "cell_type": "code",
   "execution_count": 37,
   "id": "6426a4e9-396c-47f8-8834-f149a8581b74",
   "metadata": {},
   "outputs": [],
   "source": [
    "predicted_training = clf.predict(testing_set)"
   ]
  },
  {
   "cell_type": "code",
   "execution_count": 38,
   "id": "6f647f6e-d386-45b8-8406-e277406f4aad",
   "metadata": {},
   "outputs": [
    {
     "data": {
      "text/plain": [
       "(0.9031735206875535, 0.0)"
      ]
     },
     "execution_count": 38,
     "metadata": {},
     "output_type": "execute_result"
    }
   ],
   "source": [
    "stats.pearsonr(test_score, predicted_training)"
   ]
  },
  {
   "cell_type": "code",
   "execution_count": 39,
   "id": "997094db-30c4-48f3-a1c6-e7cf1be66b6a",
   "metadata": {},
   "outputs": [
    {
     "data": {
      "text/plain": [
       "0.000205305334339457"
      ]
     },
     "execution_count": 39,
     "metadata": {},
     "output_type": "execute_result"
    }
   ],
   "source": [
    "sklearn.metrics.mean_squared_error(test_score, predicted_training)"
   ]
  },
  {
   "cell_type": "code",
   "execution_count": 40,
   "id": "97bfe89f-86a0-41dd-9556-8b75d1ce2e44",
   "metadata": {},
   "outputs": [
    {
     "data": {
      "text/plain": [
       "0.007674528130232326"
      ]
     },
     "execution_count": 40,
     "metadata": {},
     "output_type": "execute_result"
    }
   ],
   "source": [
    "sklearn.metrics.mean_absolute_error(test_score, predicted_training)"
   ]
  },
  {
   "cell_type": "markdown",
   "id": "1f9be3c0-b49f-4e14-b391-e8a0c340ff03",
   "metadata": {},
   "source": [
    "# Training Validation"
   ]
  },
  {
   "cell_type": "code",
   "execution_count": 35,
   "id": "e2aeded2-ac25-4a55-a19e-8e21f41761c3",
   "metadata": {},
   "outputs": [],
   "source": [
    "predicted_training = clf.predict(training_set)"
   ]
  },
  {
   "cell_type": "code",
   "execution_count": 36,
   "id": "1a2e29cf-653a-42b2-af22-02f73adcbc9a",
   "metadata": {},
   "outputs": [
    {
     "data": {
      "text/plain": [
       "(0.9889380062120839, 0.0)"
      ]
     },
     "execution_count": 36,
     "metadata": {},
     "output_type": "execute_result"
    }
   ],
   "source": [
    "stats.pearsonr(score, predicted_training)"
   ]
  },
  {
   "cell_type": "code",
   "execution_count": 37,
   "id": "a02424b8-ecac-4e8b-8151-c9bba9b61d17",
   "metadata": {},
   "outputs": [
    {
     "data": {
      "text/plain": [
       "2.8712282702162883e-05"
      ]
     },
     "execution_count": 37,
     "metadata": {},
     "output_type": "execute_result"
    }
   ],
   "source": [
    "sklearn.metrics.mean_squared_error(score, predicted_training)"
   ]
  },
  {
   "cell_type": "code",
   "execution_count": 38,
   "id": "5c24e813-bf35-45c7-a346-44382e8f4884",
   "metadata": {},
   "outputs": [
    {
     "data": {
      "text/plain": [
       "0.0028674419747418416"
      ]
     },
     "execution_count": 38,
     "metadata": {},
     "output_type": "execute_result"
    }
   ],
   "source": [
    "sklearn.metrics.mean_absolute_error(score, predicted_training)"
   ]
  },
  {
   "cell_type": "code",
   "execution_count": null,
   "id": "6ee876fa-84b3-4a2d-adc1-b55495cdbbd1",
   "metadata": {},
   "outputs": [],
   "source": []
  },
  {
   "cell_type": "code",
   "execution_count": null,
   "id": "52feb52b-3e65-45e1-a23c-f783dd0fe2cd",
   "metadata": {},
   "outputs": [],
   "source": []
  }
 ],
 "metadata": {
  "kernelspec": {
   "display_name": "Python 3 (ipykernel)",
   "language": "python",
   "name": "python3"
  },
  "language_info": {
   "codemirror_mode": {
    "name": "ipython",
    "version": 3
   },
   "file_extension": ".py",
   "mimetype": "text/x-python",
   "name": "python",
   "nbconvert_exporter": "python",
   "pygments_lexer": "ipython3",
   "version": "3.10.9"
  }
 },
 "nbformat": 4,
 "nbformat_minor": 5
}
