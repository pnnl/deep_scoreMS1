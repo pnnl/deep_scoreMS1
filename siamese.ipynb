{
 "cells": [
  {
   "cell_type": "code",
   "execution_count": 6,
   "id": "519be887-58fb-4852-ac18-43be46e5a788",
   "metadata": {},
   "outputs": [],
   "source": [
    "from tensorflow.keras.layers import Input, Conv2D, Lambda, Dense, Flatten, MaxPooling2D, Activation, Dropout\n",
    "from tensorflow.keras.models import Model, Sequential\n",
    "from tensorflow.keras import backend as K\n",
    "from tensorflow.keras.regularizers import l2, l1\n",
    "from tensorflow.keras.optimizers import Adam\n",
    "import matplotlib.pyplot as plt\n",
    "import numpy as np\n",
    "import pandas as pd\n",
    "import glob\n",
    "%matplotlib inline\n",
    "\n",
    "from bin_time_mz import bin_time"
   ]
  },
  {
   "cell_type": "code",
   "execution_count": 7,
   "id": "f750392f-c8e9-4e19-966a-367b8d287c3a",
   "metadata": {},
   "outputs": [],
   "source": [
    "import tensorflow as tf\n",
    "from tensorflow.keras import *\n",
    "#from tensorflow.keras import datasets, layers, models, Sequential, Input, Model, \n",
    "#from tf.keras.models import Sequential, Input, Model\n",
    "#from keras.layers import Dense, Dropout, Flatten\n",
    "#from keras.layers import Conv2D, MaxPooling2D\n",
    "#from keras.layers.normalization import BatchNormalization\n",
    "#from keras.layers.advanced_activations import LeakyReLU"
   ]
  },
  {
   "cell_type": "code",
   "execution_count": null,
   "id": "b2a4d91e-d405-4313-8173-bccf64bb62d0",
   "metadata": {},
   "outputs": [],
   "source": []
  },
  {
   "cell_type": "markdown",
   "id": "a6f67455-dd93-4b6c-b4cd-f6037d88b1d9",
   "metadata": {},
   "source": [
    "# load data"
   ]
  },
  {
   "cell_type": "code",
   "execution_count": 8,
   "id": "bd40aaab-36b4-462a-b4cf-ab1ec7eb041d",
   "metadata": {},
   "outputs": [],
   "source": [
    "table = {}\n",
    "\n",
    "for i in glob.glob(\"ms1_training/*\"):\n",
    "    \n",
    "    df = pd.read_csv(i, index_col=0)\n",
    "    binned = bin_time(df, rt_window=1, mz_window=1.0005079)\n",
    "    table[i.replace(\"ms1_training/\",\"\").replace(\"_ms1.csv\", \"\")] = binned\n",
    "    "
   ]
  },
  {
   "cell_type": "code",
   "execution_count": 9,
   "id": "41f3ac72-99f8-4e19-9be8-0f322cb2feda",
   "metadata": {},
   "outputs": [],
   "source": [
    "for i in glob.glob(\"ms1_external/*\"):\n",
    "    \n",
    "    df = pd.read_csv(i, index_col=0)\n",
    "    binned = bin_time(df, rt_window=1, mz_window=1.0005079)\n",
    "    table[i.replace(\"ms1_external/\",\"\").replace(\"_ms1.csv\", \"\")] = binned\n",
    "    "
   ]
  },
  {
   "cell_type": "code",
   "execution_count": 10,
   "id": "5226fe54-6fd5-48c6-9eba-33851c9646df",
   "metadata": {},
   "outputs": [
    {
     "data": {
      "text/html": [
       "<div>\n",
       "<style scoped>\n",
       "    .dataframe tbody tr th:only-of-type {\n",
       "        vertical-align: middle;\n",
       "    }\n",
       "\n",
       "    .dataframe tbody tr th {\n",
       "        vertical-align: top;\n",
       "    }\n",
       "\n",
       "    .dataframe thead th {\n",
       "        text-align: right;\n",
       "    }\n",
       "</style>\n",
       "<table border=\"1\" class=\"dataframe\">\n",
       "  <thead>\n",
       "    <tr style=\"text-align: right;\">\n",
       "      <th></th>\n",
       "      <th>99</th>\n",
       "      <th>100</th>\n",
       "      <th>101</th>\n",
       "      <th>102</th>\n",
       "      <th>103</th>\n",
       "      <th>104</th>\n",
       "      <th>105</th>\n",
       "      <th>106</th>\n",
       "      <th>107</th>\n",
       "      <th>108</th>\n",
       "      <th>...</th>\n",
       "      <th>1790</th>\n",
       "      <th>1791</th>\n",
       "      <th>1792</th>\n",
       "      <th>1793</th>\n",
       "      <th>1794</th>\n",
       "      <th>1795</th>\n",
       "      <th>1796</th>\n",
       "      <th>1797</th>\n",
       "      <th>1798</th>\n",
       "      <th>1799</th>\n",
       "    </tr>\n",
       "  </thead>\n",
       "  <tbody>\n",
       "    <tr>\n",
       "      <th>PXD016880</th>\n",
       "      <td>0.0</td>\n",
       "      <td>0.0</td>\n",
       "      <td>0.0</td>\n",
       "      <td>0.0</td>\n",
       "      <td>0.0</td>\n",
       "      <td>0.0</td>\n",
       "      <td>0.0</td>\n",
       "      <td>0.0</td>\n",
       "      <td>0.0</td>\n",
       "      <td>0.0</td>\n",
       "      <td>...</td>\n",
       "      <td>0.0</td>\n",
       "      <td>0.0</td>\n",
       "      <td>0.0</td>\n",
       "      <td>0.0</td>\n",
       "      <td>0.0</td>\n",
       "      <td>0.000000</td>\n",
       "      <td>0.0</td>\n",
       "      <td>0.0</td>\n",
       "      <td>0.000000</td>\n",
       "      <td>0.00000</td>\n",
       "    </tr>\n",
       "    <tr>\n",
       "      <th>PXD007585</th>\n",
       "      <td>0.0</td>\n",
       "      <td>0.0</td>\n",
       "      <td>0.0</td>\n",
       "      <td>0.0</td>\n",
       "      <td>0.0</td>\n",
       "      <td>0.0</td>\n",
       "      <td>0.0</td>\n",
       "      <td>0.0</td>\n",
       "      <td>0.0</td>\n",
       "      <td>0.0</td>\n",
       "      <td>...</td>\n",
       "      <td>0.0</td>\n",
       "      <td>0.0</td>\n",
       "      <td>0.0</td>\n",
       "      <td>0.0</td>\n",
       "      <td>0.0</td>\n",
       "      <td>0.000000</td>\n",
       "      <td>0.0</td>\n",
       "      <td>0.0</td>\n",
       "      <td>0.000000</td>\n",
       "      <td>0.00000</td>\n",
       "    </tr>\n",
       "    <tr>\n",
       "      <th>PXD016519</th>\n",
       "      <td>0.0</td>\n",
       "      <td>0.0</td>\n",
       "      <td>0.0</td>\n",
       "      <td>0.0</td>\n",
       "      <td>0.0</td>\n",
       "      <td>0.0</td>\n",
       "      <td>0.0</td>\n",
       "      <td>0.0</td>\n",
       "      <td>0.0</td>\n",
       "      <td>0.0</td>\n",
       "      <td>...</td>\n",
       "      <td>0.0</td>\n",
       "      <td>0.0</td>\n",
       "      <td>0.0</td>\n",
       "      <td>0.0</td>\n",
       "      <td>0.0</td>\n",
       "      <td>0.000000</td>\n",
       "      <td>0.0</td>\n",
       "      <td>0.0</td>\n",
       "      <td>0.000000</td>\n",
       "      <td>0.00000</td>\n",
       "    </tr>\n",
       "    <tr>\n",
       "      <th>PXD002601</th>\n",
       "      <td>0.0</td>\n",
       "      <td>0.0</td>\n",
       "      <td>0.0</td>\n",
       "      <td>0.0</td>\n",
       "      <td>0.0</td>\n",
       "      <td>0.0</td>\n",
       "      <td>0.0</td>\n",
       "      <td>0.0</td>\n",
       "      <td>0.0</td>\n",
       "      <td>0.0</td>\n",
       "      <td>...</td>\n",
       "      <td>0.0</td>\n",
       "      <td>0.0</td>\n",
       "      <td>0.0</td>\n",
       "      <td>0.0</td>\n",
       "      <td>0.0</td>\n",
       "      <td>0.000000</td>\n",
       "      <td>0.0</td>\n",
       "      <td>0.0</td>\n",
       "      <td>0.000000</td>\n",
       "      <td>0.00000</td>\n",
       "    </tr>\n",
       "    <tr>\n",
       "      <th>PXD009207</th>\n",
       "      <td>0.0</td>\n",
       "      <td>0.0</td>\n",
       "      <td>0.0</td>\n",
       "      <td>0.0</td>\n",
       "      <td>0.0</td>\n",
       "      <td>0.0</td>\n",
       "      <td>0.0</td>\n",
       "      <td>0.0</td>\n",
       "      <td>0.0</td>\n",
       "      <td>0.0</td>\n",
       "      <td>...</td>\n",
       "      <td>0.0</td>\n",
       "      <td>0.0</td>\n",
       "      <td>0.0</td>\n",
       "      <td>0.0</td>\n",
       "      <td>0.0</td>\n",
       "      <td>0.000000</td>\n",
       "      <td>0.0</td>\n",
       "      <td>0.0</td>\n",
       "      <td>0.000000</td>\n",
       "      <td>0.00000</td>\n",
       "    </tr>\n",
       "    <tr>\n",
       "      <th>...</th>\n",
       "      <td>...</td>\n",
       "      <td>...</td>\n",
       "      <td>...</td>\n",
       "      <td>...</td>\n",
       "      <td>...</td>\n",
       "      <td>...</td>\n",
       "      <td>...</td>\n",
       "      <td>...</td>\n",
       "      <td>...</td>\n",
       "      <td>...</td>\n",
       "      <td>...</td>\n",
       "      <td>...</td>\n",
       "      <td>...</td>\n",
       "      <td>...</td>\n",
       "      <td>...</td>\n",
       "      <td>...</td>\n",
       "      <td>...</td>\n",
       "      <td>...</td>\n",
       "      <td>...</td>\n",
       "      <td>...</td>\n",
       "      <td>...</td>\n",
       "    </tr>\n",
       "    <tr>\n",
       "      <th>PXD015392</th>\n",
       "      <td>0.0</td>\n",
       "      <td>0.0</td>\n",
       "      <td>0.0</td>\n",
       "      <td>0.0</td>\n",
       "      <td>0.0</td>\n",
       "      <td>0.0</td>\n",
       "      <td>0.0</td>\n",
       "      <td>0.0</td>\n",
       "      <td>0.0</td>\n",
       "      <td>0.0</td>\n",
       "      <td>...</td>\n",
       "      <td>0.0</td>\n",
       "      <td>0.0</td>\n",
       "      <td>0.0</td>\n",
       "      <td>0.0</td>\n",
       "      <td>0.0</td>\n",
       "      <td>0.000294</td>\n",
       "      <td>0.0</td>\n",
       "      <td>0.0</td>\n",
       "      <td>0.000159</td>\n",
       "      <td>0.00072</td>\n",
       "    </tr>\n",
       "    <tr>\n",
       "      <th>PXD012798</th>\n",
       "      <td>0.0</td>\n",
       "      <td>0.0</td>\n",
       "      <td>0.0</td>\n",
       "      <td>0.0</td>\n",
       "      <td>0.0</td>\n",
       "      <td>0.0</td>\n",
       "      <td>0.0</td>\n",
       "      <td>0.0</td>\n",
       "      <td>0.0</td>\n",
       "      <td>0.0</td>\n",
       "      <td>...</td>\n",
       "      <td>0.0</td>\n",
       "      <td>0.0</td>\n",
       "      <td>0.0</td>\n",
       "      <td>0.0</td>\n",
       "      <td>0.0</td>\n",
       "      <td>0.000000</td>\n",
       "      <td>0.0</td>\n",
       "      <td>0.0</td>\n",
       "      <td>0.000000</td>\n",
       "      <td>0.00000</td>\n",
       "    </tr>\n",
       "    <tr>\n",
       "      <th>PXD029420</th>\n",
       "      <td>0.0</td>\n",
       "      <td>0.0</td>\n",
       "      <td>0.0</td>\n",
       "      <td>0.0</td>\n",
       "      <td>0.0</td>\n",
       "      <td>0.0</td>\n",
       "      <td>0.0</td>\n",
       "      <td>0.0</td>\n",
       "      <td>0.0</td>\n",
       "      <td>0.0</td>\n",
       "      <td>...</td>\n",
       "      <td>0.0</td>\n",
       "      <td>0.0</td>\n",
       "      <td>0.0</td>\n",
       "      <td>0.0</td>\n",
       "      <td>0.0</td>\n",
       "      <td>0.000000</td>\n",
       "      <td>0.0</td>\n",
       "      <td>0.0</td>\n",
       "      <td>0.000000</td>\n",
       "      <td>0.00000</td>\n",
       "    </tr>\n",
       "    <tr>\n",
       "      <th>PXD009443</th>\n",
       "      <td>0.0</td>\n",
       "      <td>0.0</td>\n",
       "      <td>0.0</td>\n",
       "      <td>0.0</td>\n",
       "      <td>0.0</td>\n",
       "      <td>0.0</td>\n",
       "      <td>0.0</td>\n",
       "      <td>0.0</td>\n",
       "      <td>0.0</td>\n",
       "      <td>0.0</td>\n",
       "      <td>...</td>\n",
       "      <td>0.0</td>\n",
       "      <td>0.0</td>\n",
       "      <td>0.0</td>\n",
       "      <td>0.0</td>\n",
       "      <td>0.0</td>\n",
       "      <td>0.000000</td>\n",
       "      <td>0.0</td>\n",
       "      <td>0.0</td>\n",
       "      <td>0.000000</td>\n",
       "      <td>0.00000</td>\n",
       "    </tr>\n",
       "    <tr>\n",
       "      <th>PXD006424</th>\n",
       "      <td>0.0</td>\n",
       "      <td>0.0</td>\n",
       "      <td>0.0</td>\n",
       "      <td>0.0</td>\n",
       "      <td>0.0</td>\n",
       "      <td>0.0</td>\n",
       "      <td>0.0</td>\n",
       "      <td>0.0</td>\n",
       "      <td>0.0</td>\n",
       "      <td>0.0</td>\n",
       "      <td>...</td>\n",
       "      <td>0.0</td>\n",
       "      <td>0.0</td>\n",
       "      <td>0.0</td>\n",
       "      <td>0.0</td>\n",
       "      <td>0.0</td>\n",
       "      <td>0.000000</td>\n",
       "      <td>0.0</td>\n",
       "      <td>0.0</td>\n",
       "      <td>0.000000</td>\n",
       "      <td>0.00000</td>\n",
       "    </tr>\n",
       "  </tbody>\n",
       "</table>\n",
       "<p>966 rows × 1700 columns</p>\n",
       "</div>"
      ],
      "text/plain": [
       "           99    100   101   102   103   104   105   106   107   108   ...  \\\n",
       "PXD016880   0.0   0.0   0.0   0.0   0.0   0.0   0.0   0.0   0.0   0.0  ...   \n",
       "PXD007585   0.0   0.0   0.0   0.0   0.0   0.0   0.0   0.0   0.0   0.0  ...   \n",
       "PXD016519   0.0   0.0   0.0   0.0   0.0   0.0   0.0   0.0   0.0   0.0  ...   \n",
       "PXD002601   0.0   0.0   0.0   0.0   0.0   0.0   0.0   0.0   0.0   0.0  ...   \n",
       "PXD009207   0.0   0.0   0.0   0.0   0.0   0.0   0.0   0.0   0.0   0.0  ...   \n",
       "...         ...   ...   ...   ...   ...   ...   ...   ...   ...   ...  ...   \n",
       "PXD015392   0.0   0.0   0.0   0.0   0.0   0.0   0.0   0.0   0.0   0.0  ...   \n",
       "PXD012798   0.0   0.0   0.0   0.0   0.0   0.0   0.0   0.0   0.0   0.0  ...   \n",
       "PXD029420   0.0   0.0   0.0   0.0   0.0   0.0   0.0   0.0   0.0   0.0  ...   \n",
       "PXD009443   0.0   0.0   0.0   0.0   0.0   0.0   0.0   0.0   0.0   0.0  ...   \n",
       "PXD006424   0.0   0.0   0.0   0.0   0.0   0.0   0.0   0.0   0.0   0.0  ...   \n",
       "\n",
       "           1790  1791  1792  1793  1794      1795  1796  1797      1798  \\\n",
       "PXD016880   0.0   0.0   0.0   0.0   0.0  0.000000   0.0   0.0  0.000000   \n",
       "PXD007585   0.0   0.0   0.0   0.0   0.0  0.000000   0.0   0.0  0.000000   \n",
       "PXD016519   0.0   0.0   0.0   0.0   0.0  0.000000   0.0   0.0  0.000000   \n",
       "PXD002601   0.0   0.0   0.0   0.0   0.0  0.000000   0.0   0.0  0.000000   \n",
       "PXD009207   0.0   0.0   0.0   0.0   0.0  0.000000   0.0   0.0  0.000000   \n",
       "...         ...   ...   ...   ...   ...       ...   ...   ...       ...   \n",
       "PXD015392   0.0   0.0   0.0   0.0   0.0  0.000294   0.0   0.0  0.000159   \n",
       "PXD012798   0.0   0.0   0.0   0.0   0.0  0.000000   0.0   0.0  0.000000   \n",
       "PXD029420   0.0   0.0   0.0   0.0   0.0  0.000000   0.0   0.0  0.000000   \n",
       "PXD009443   0.0   0.0   0.0   0.0   0.0  0.000000   0.0   0.0  0.000000   \n",
       "PXD006424   0.0   0.0   0.0   0.0   0.0  0.000000   0.0   0.0  0.000000   \n",
       "\n",
       "              1799  \n",
       "PXD016880  0.00000  \n",
       "PXD007585  0.00000  \n",
       "PXD016519  0.00000  \n",
       "PXD002601  0.00000  \n",
       "PXD009207  0.00000  \n",
       "...            ...  \n",
       "PXD015392  0.00072  \n",
       "PXD012798  0.00000  \n",
       "PXD029420  0.00000  \n",
       "PXD009443  0.00000  \n",
       "PXD006424  0.00000  \n",
       "\n",
       "[966 rows x 1700 columns]"
      ]
     },
     "execution_count": 10,
     "metadata": {},
     "output_type": "execute_result"
    }
   ],
   "source": [
    "df = pd.DataFrame(table).transpose()\n",
    "df = df.apply(lambda x: x/x.max(), axis=1)\n",
    "df=df.loc[:, (df != 0).any(axis=0)]\n",
    "df"
   ]
  },
  {
   "cell_type": "code",
   "execution_count": 11,
   "id": "d0e3c456-8058-4837-a293-e5a01afe55c8",
   "metadata": {},
   "outputs": [],
   "source": [
    "del(table)"
   ]
  },
  {
   "cell_type": "code",
   "execution_count": null,
   "id": "244cca5a-f091-4620-8347-23a777f38689",
   "metadata": {},
   "outputs": [],
   "source": []
  },
  {
   "cell_type": "markdown",
   "id": "0d2c516c-8d8d-416a-b44d-601f7c7853ad",
   "metadata": {},
   "source": [
    "# Setup training data"
   ]
  },
  {
   "cell_type": "code",
   "execution_count": 12,
   "id": "68143360-eb41-4ca9-a0d4-28e19b325293",
   "metadata": {},
   "outputs": [
    {
     "data": {
      "text/html": [
       "<div>\n",
       "<style scoped>\n",
       "    .dataframe tbody tr th:only-of-type {\n",
       "        vertical-align: middle;\n",
       "    }\n",
       "\n",
       "    .dataframe tbody tr th {\n",
       "        vertical-align: top;\n",
       "    }\n",
       "\n",
       "    .dataframe thead th {\n",
       "        text-align: right;\n",
       "    }\n",
       "</style>\n",
       "<table border=\"1\" class=\"dataframe\">\n",
       "  <thead>\n",
       "    <tr style=\"text-align: right;\">\n",
       "      <th></th>\n",
       "      <th>PID1</th>\n",
       "      <th>PID2</th>\n",
       "      <th>Jaccard_Index</th>\n",
       "    </tr>\n",
       "  </thead>\n",
       "  <tbody>\n",
       "    <tr>\n",
       "      <th>0</th>\n",
       "      <td>PXD002434</td>\n",
       "      <td>PXD012611</td>\n",
       "      <td>0.000000</td>\n",
       "    </tr>\n",
       "    <tr>\n",
       "      <th>1</th>\n",
       "      <td>PXD018291</td>\n",
       "      <td>PXD014062</td>\n",
       "      <td>0.000000</td>\n",
       "    </tr>\n",
       "    <tr>\n",
       "      <th>2</th>\n",
       "      <td>PXD006539</td>\n",
       "      <td>PXD000050</td>\n",
       "      <td>0.000000</td>\n",
       "    </tr>\n",
       "    <tr>\n",
       "      <th>3</th>\n",
       "      <td>PXD018291</td>\n",
       "      <td>PXD002552</td>\n",
       "      <td>0.000000</td>\n",
       "    </tr>\n",
       "    <tr>\n",
       "      <th>4</th>\n",
       "      <td>PXD006539</td>\n",
       "      <td>PXD011152</td>\n",
       "      <td>0.000000</td>\n",
       "    </tr>\n",
       "    <tr>\n",
       "      <th>...</th>\n",
       "      <td>...</td>\n",
       "      <td>...</td>\n",
       "      <td>...</td>\n",
       "    </tr>\n",
       "    <tr>\n",
       "      <th>404545</th>\n",
       "      <td>PXD002087</td>\n",
       "      <td>PXD005353</td>\n",
       "      <td>0.497725</td>\n",
       "    </tr>\n",
       "    <tr>\n",
       "      <th>404546</th>\n",
       "      <td>PXD002212</td>\n",
       "      <td>PXD002211</td>\n",
       "      <td>0.514724</td>\n",
       "    </tr>\n",
       "    <tr>\n",
       "      <th>404547</th>\n",
       "      <td>PXD002081</td>\n",
       "      <td>PXD002046</td>\n",
       "      <td>0.531152</td>\n",
       "    </tr>\n",
       "    <tr>\n",
       "      <th>404548</th>\n",
       "      <td>PXD002081</td>\n",
       "      <td>PXD002085</td>\n",
       "      <td>0.542056</td>\n",
       "    </tr>\n",
       "    <tr>\n",
       "      <th>404549</th>\n",
       "      <td>PXD021677</td>\n",
       "      <td>PXD004242</td>\n",
       "      <td>0.679811</td>\n",
       "    </tr>\n",
       "  </tbody>\n",
       "</table>\n",
       "<p>404550 rows × 3 columns</p>\n",
       "</div>"
      ],
      "text/plain": [
       "             PID1       PID2  Jaccard_Index\n",
       "0       PXD002434  PXD012611       0.000000\n",
       "1       PXD018291  PXD014062       0.000000\n",
       "2       PXD006539  PXD000050       0.000000\n",
       "3       PXD018291  PXD002552       0.000000\n",
       "4       PXD006539  PXD011152       0.000000\n",
       "...           ...        ...            ...\n",
       "404545  PXD002087  PXD005353       0.497725\n",
       "404546  PXD002212  PXD002211       0.514724\n",
       "404547  PXD002081  PXD002046       0.531152\n",
       "404548  PXD002081  PXD002085       0.542056\n",
       "404549  PXD021677  PXD004242       0.679811\n",
       "\n",
       "[404550 rows x 3 columns]"
      ]
     },
     "execution_count": 12,
     "metadata": {},
     "output_type": "execute_result"
    }
   ],
   "source": [
    "pairs = pd.read_csv(\"train_pairs.txt\")\n",
    "pairs"
   ]
  },
  {
   "cell_type": "code",
   "execution_count": 13,
   "id": "fc96b186-8231-444a-aae7-8cfae3c0790e",
   "metadata": {},
   "outputs": [],
   "source": [
    "from sklearn.model_selection import train_test_split\n",
    "\n",
    "train, test = train_test_split(pairs, test_size=0.2, random_state=42)"
   ]
  },
  {
   "cell_type": "code",
   "execution_count": 14,
   "id": "c397d3f7-9d2c-4681-9563-717722d38f38",
   "metadata": {},
   "outputs": [
    {
     "data": {
      "text/html": [
       "<div>\n",
       "<style scoped>\n",
       "    .dataframe tbody tr th:only-of-type {\n",
       "        vertical-align: middle;\n",
       "    }\n",
       "\n",
       "    .dataframe tbody tr th {\n",
       "        vertical-align: top;\n",
       "    }\n",
       "\n",
       "    .dataframe thead th {\n",
       "        text-align: right;\n",
       "    }\n",
       "</style>\n",
       "<table border=\"1\" class=\"dataframe\">\n",
       "  <thead>\n",
       "    <tr style=\"text-align: right;\">\n",
       "      <th></th>\n",
       "      <th>PID1</th>\n",
       "      <th>PID2</th>\n",
       "      <th>Jaccard_Index</th>\n",
       "    </tr>\n",
       "  </thead>\n",
       "  <tbody>\n",
       "    <tr>\n",
       "      <th>24597</th>\n",
       "      <td>PXD006236</td>\n",
       "      <td>PXD018300</td>\n",
       "      <td>0.000000</td>\n",
       "    </tr>\n",
       "    <tr>\n",
       "      <th>4874</th>\n",
       "      <td>PXD017386</td>\n",
       "      <td>PXD009683</td>\n",
       "      <td>0.000000</td>\n",
       "    </tr>\n",
       "    <tr>\n",
       "      <th>1450</th>\n",
       "      <td>PXD010237</td>\n",
       "      <td>PXD011085</td>\n",
       "      <td>0.000000</td>\n",
       "    </tr>\n",
       "    <tr>\n",
       "      <th>12451</th>\n",
       "      <td>PXD021198</td>\n",
       "      <td>PXD009595</td>\n",
       "      <td>0.000000</td>\n",
       "    </tr>\n",
       "    <tr>\n",
       "      <th>2536</th>\n",
       "      <td>PXD006008</td>\n",
       "      <td>PXD010944</td>\n",
       "      <td>0.000000</td>\n",
       "    </tr>\n",
       "    <tr>\n",
       "      <th>...</th>\n",
       "      <td>...</td>\n",
       "      <td>...</td>\n",
       "      <td>...</td>\n",
       "    </tr>\n",
       "    <tr>\n",
       "      <th>404542</th>\n",
       "      <td>PXD002081</td>\n",
       "      <td>PXD002082</td>\n",
       "      <td>0.448373</td>\n",
       "    </tr>\n",
       "    <tr>\n",
       "      <th>404543</th>\n",
       "      <td>PXD002087</td>\n",
       "      <td>PXD002046</td>\n",
       "      <td>0.452747</td>\n",
       "    </tr>\n",
       "    <tr>\n",
       "      <th>404544</th>\n",
       "      <td>PXD002081</td>\n",
       "      <td>PXD005353</td>\n",
       "      <td>0.457388</td>\n",
       "    </tr>\n",
       "    <tr>\n",
       "      <th>404546</th>\n",
       "      <td>PXD002212</td>\n",
       "      <td>PXD002211</td>\n",
       "      <td>0.514724</td>\n",
       "    </tr>\n",
       "    <tr>\n",
       "      <th>404548</th>\n",
       "      <td>PXD002081</td>\n",
       "      <td>PXD002085</td>\n",
       "      <td>0.542056</td>\n",
       "    </tr>\n",
       "  </tbody>\n",
       "</table>\n",
       "<p>323640 rows × 3 columns</p>\n",
       "</div>"
      ],
      "text/plain": [
       "             PID1       PID2  Jaccard_Index\n",
       "24597   PXD006236  PXD018300       0.000000\n",
       "4874    PXD017386  PXD009683       0.000000\n",
       "1450    PXD010237  PXD011085       0.000000\n",
       "12451   PXD021198  PXD009595       0.000000\n",
       "2536    PXD006008  PXD010944       0.000000\n",
       "...           ...        ...            ...\n",
       "404542  PXD002081  PXD002082       0.448373\n",
       "404543  PXD002087  PXD002046       0.452747\n",
       "404544  PXD002081  PXD005353       0.457388\n",
       "404546  PXD002212  PXD002211       0.514724\n",
       "404548  PXD002081  PXD002085       0.542056\n",
       "\n",
       "[323640 rows x 3 columns]"
      ]
     },
     "execution_count": 14,
     "metadata": {},
     "output_type": "execute_result"
    }
   ],
   "source": [
    "train.sort_values(by=[\"Jaccard_Index\"])"
   ]
  },
  {
   "cell_type": "code",
   "execution_count": 15,
   "id": "7ebdcae6-c32d-4ae9-bbdb-4d97304f3639",
   "metadata": {},
   "outputs": [
    {
     "data": {
      "text/plain": [
       "array([0.00465116, 0.        , 0.00389105, ..., 0.00345871, 0.0042735 ,\n",
       "       0.00297619])"
      ]
     },
     "execution_count": 15,
     "metadata": {},
     "output_type": "execute_result"
    }
   ],
   "source": [
    "score = train['Jaccard_Index'].values\n",
    "score"
   ]
  },
  {
   "cell_type": "code",
   "execution_count": 16,
   "id": "77c08c8d-9069-4339-89ac-cc1a45f432a5",
   "metadata": {},
   "outputs": [],
   "source": [
    "left_input = []\n",
    "right_input = []\n",
    "\n",
    "for index, row in train.iterrows():\n",
    "\n",
    "    left_input.append( np.array(df.loc[row['PID1']]) )\n",
    "    right_input.append( np.array(df.loc[row['PID2']]) )"
   ]
  },
  {
   "cell_type": "code",
   "execution_count": 17,
   "id": "21247174-2894-4729-94fd-7cb72ca622b5",
   "metadata": {},
   "outputs": [
    {
     "data": {
      "text/plain": [
       "323640"
      ]
     },
     "execution_count": 17,
     "metadata": {},
     "output_type": "execute_result"
    }
   ],
   "source": [
    "len(left_input)"
   ]
  },
  {
   "cell_type": "code",
   "execution_count": 18,
   "id": "2a2fcad8-084a-4f96-90a5-5520334b046b",
   "metadata": {},
   "outputs": [],
   "source": [
    "left_input = np.array(left_input).reshape((len(train), len(df.columns), 1))\n",
    "right_input = np.array(right_input).reshape((len(train), len(df.columns), 1))"
   ]
  },
  {
   "cell_type": "code",
   "execution_count": 19,
   "id": "39495ab9-2ac7-44b1-86b4-d23222c9726b",
   "metadata": {},
   "outputs": [
    {
     "data": {
      "text/plain": [
       "(323640, 1700, 1)"
      ]
     },
     "execution_count": 19,
     "metadata": {},
     "output_type": "execute_result"
    }
   ],
   "source": [
    "np.shape(left_input)"
   ]
  },
  {
   "cell_type": "code",
   "execution_count": null,
   "id": "0b653e94-c0dc-4ac5-8445-6b59e97d0d54",
   "metadata": {},
   "outputs": [],
   "source": []
  },
  {
   "cell_type": "markdown",
   "id": "e9990adb-00a7-4b7a-9e48-6f94a4f34854",
   "metadata": {},
   "source": [
    "# Second Validation Set (External)"
   ]
  },
  {
   "cell_type": "code",
   "execution_count": 20,
   "id": "fe83feb2-e947-4512-ae8c-0db92b0f9ad1",
   "metadata": {},
   "outputs": [
    {
     "data": {
      "text/html": [
       "<div>\n",
       "<style scoped>\n",
       "    .dataframe tbody tr th:only-of-type {\n",
       "        vertical-align: middle;\n",
       "    }\n",
       "\n",
       "    .dataframe tbody tr th {\n",
       "        vertical-align: top;\n",
       "    }\n",
       "\n",
       "    .dataframe thead th {\n",
       "        text-align: right;\n",
       "    }\n",
       "</style>\n",
       "<table border=\"1\" class=\"dataframe\">\n",
       "  <thead>\n",
       "    <tr style=\"text-align: right;\">\n",
       "      <th></th>\n",
       "      <th>PID1</th>\n",
       "      <th>PID2</th>\n",
       "      <th>Jaccard_Index</th>\n",
       "    </tr>\n",
       "  </thead>\n",
       "  <tbody>\n",
       "    <tr>\n",
       "      <th>0</th>\n",
       "      <td>PXD005184</td>\n",
       "      <td>PXD016001</td>\n",
       "      <td>0.000000</td>\n",
       "    </tr>\n",
       "    <tr>\n",
       "      <th>1</th>\n",
       "      <td>PXD005184</td>\n",
       "      <td>PXD002548</td>\n",
       "      <td>0.000000</td>\n",
       "    </tr>\n",
       "    <tr>\n",
       "      <th>2</th>\n",
       "      <td>PXD018048</td>\n",
       "      <td>PXD017336</td>\n",
       "      <td>0.000000</td>\n",
       "    </tr>\n",
       "    <tr>\n",
       "      <th>3</th>\n",
       "      <td>PXD003105</td>\n",
       "      <td>PXD002548</td>\n",
       "      <td>0.000000</td>\n",
       "    </tr>\n",
       "    <tr>\n",
       "      <th>4</th>\n",
       "      <td>PXD016680</td>\n",
       "      <td>PXD017336</td>\n",
       "      <td>0.000000</td>\n",
       "    </tr>\n",
       "    <tr>\n",
       "      <th>...</th>\n",
       "      <td>...</td>\n",
       "      <td>...</td>\n",
       "      <td>...</td>\n",
       "    </tr>\n",
       "    <tr>\n",
       "      <th>2140</th>\n",
       "      <td>PXD007864</td>\n",
       "      <td>PXD016001</td>\n",
       "      <td>0.203302</td>\n",
       "    </tr>\n",
       "    <tr>\n",
       "      <th>2141</th>\n",
       "      <td>PXD015369</td>\n",
       "      <td>PXD006332</td>\n",
       "      <td>0.209389</td>\n",
       "    </tr>\n",
       "    <tr>\n",
       "      <th>2142</th>\n",
       "      <td>PXD009687</td>\n",
       "      <td>PXD006332</td>\n",
       "      <td>0.228904</td>\n",
       "    </tr>\n",
       "    <tr>\n",
       "      <th>2143</th>\n",
       "      <td>PXD029420</td>\n",
       "      <td>PXD025626</td>\n",
       "      <td>0.232863</td>\n",
       "    </tr>\n",
       "    <tr>\n",
       "      <th>2144</th>\n",
       "      <td>PXD029420</td>\n",
       "      <td>PXD015369</td>\n",
       "      <td>0.247101</td>\n",
       "    </tr>\n",
       "  </tbody>\n",
       "</table>\n",
       "<p>2145 rows × 3 columns</p>\n",
       "</div>"
      ],
      "text/plain": [
       "           PID1       PID2  Jaccard_Index\n",
       "0     PXD005184  PXD016001       0.000000\n",
       "1     PXD005184  PXD002548       0.000000\n",
       "2     PXD018048  PXD017336       0.000000\n",
       "3     PXD003105  PXD002548       0.000000\n",
       "4     PXD016680  PXD017336       0.000000\n",
       "...         ...        ...            ...\n",
       "2140  PXD007864  PXD016001       0.203302\n",
       "2141  PXD015369  PXD006332       0.209389\n",
       "2142  PXD009687  PXD006332       0.228904\n",
       "2143  PXD029420  PXD025626       0.232863\n",
       "2144  PXD029420  PXD015369       0.247101\n",
       "\n",
       "[2145 rows x 3 columns]"
      ]
     },
     "execution_count": 20,
     "metadata": {},
     "output_type": "execute_result"
    }
   ],
   "source": [
    "test2 = pd.read_csv(\"test_pairs.txt\")\n",
    "test2"
   ]
  },
  {
   "cell_type": "code",
   "execution_count": 21,
   "id": "9d8bf1c7-14d7-4b30-8051-1cd11a7da9bc",
   "metadata": {},
   "outputs": [
    {
     "data": {
      "text/plain": [
       "array([0.        , 0.        , 0.        , ..., 0.2289044 , 0.23286256,\n",
       "       0.24710128])"
      ]
     },
     "execution_count": 21,
     "metadata": {},
     "output_type": "execute_result"
    }
   ],
   "source": [
    "test_score = test2['Jaccard_Index'].values\n",
    "test_score"
   ]
  },
  {
   "cell_type": "code",
   "execution_count": 22,
   "id": "1e271d79-635b-42c1-b2cc-7202963b0295",
   "metadata": {},
   "outputs": [],
   "source": [
    "test_left = []\n",
    "test_right = []\n",
    "\n",
    "for index, row in test2.iterrows():\n",
    "\n",
    "    test_left.append( np.array(df.loc[row['PID1']]) )\n",
    "    test_right.append( np.array(df.loc[row['PID2']]) )"
   ]
  },
  {
   "cell_type": "code",
   "execution_count": 23,
   "id": "a5f393ce-0166-4aa5-b498-be3c9391f15d",
   "metadata": {},
   "outputs": [],
   "source": [
    "test_left = np.array(test_left).reshape((len(test2), len(df.columns), 1))\n",
    "test_right = np.array(test_right).reshape(((len(test2), len(df.columns), 1))"
   ]
  },
  {
   "cell_type": "code",
   "execution_count": 24,
   "id": "4d6a381e-ff0d-41c7-971e-8d0230f4ed39",
   "metadata": {},
   "outputs": [
    {
     "data": {
      "text/plain": [
       "(2145, 1700, 1)"
      ]
     },
     "execution_count": 24,
     "metadata": {},
     "output_type": "execute_result"
    }
   ],
   "source": [
    "np.shape(test_right)"
   ]
  },
  {
   "cell_type": "markdown",
   "id": "d2da20a5-7626-466e-a2b2-19b989dce79b",
   "metadata": {},
   "source": [
    "# CNN Building"
   ]
  },
  {
   "cell_type": "code",
   "execution_count": null,
   "id": "08d12e82-3534-4637-9e0f-01a2fc884b0d",
   "metadata": {},
   "outputs": [],
   "source": []
  },
  {
   "cell_type": "code",
   "execution_count": 25,
   "id": "339b8158-96f0-40e1-86f2-b6db2ba8eead",
   "metadata": {},
   "outputs": [
    {
     "name": "stderr",
     "output_type": "stream",
     "text": [
      "2023-06-19 17:53:43.038055: I tensorflow/core/platform/cpu_feature_guard.cc:151] This TensorFlow binary is optimized with oneAPI Deep Neural Network Library (oneDNN) to use the following CPU instructions in performance-critical operations:  AVX2 AVX512F FMA\n",
      "To enable them in other operations, rebuild TensorFlow with the appropriate compiler flags.\n",
      "2023-06-19 17:53:48.325375: I tensorflow/core/common_runtime/gpu/gpu_device.cc:1525] Created device /job:localhost/replica:0/task:0/device:GPU:0 with 9653 MB memory:  -> device: 0, name: NVIDIA GeForce RTX 2080 Ti, pci bus id: 0000:3d:00.0, compute capability: 7.5\n",
      "2023-06-19 17:53:48.327242: I tensorflow/core/common_runtime/gpu/gpu_device.cc:1525] Created device /job:localhost/replica:0/task:0/device:GPU:1 with 9653 MB memory:  -> device: 1, name: NVIDIA GeForce RTX 2080 Ti, pci bus id: 0000:3e:00.0, compute capability: 7.5\n",
      "2023-06-19 17:53:48.328990: I tensorflow/core/common_runtime/gpu/gpu_device.cc:1525] Created device /job:localhost/replica:0/task:0/device:GPU:2 with 9653 MB memory:  -> device: 2, name: NVIDIA GeForce RTX 2080 Ti, pci bus id: 0000:60:00.0, compute capability: 7.5\n",
      "2023-06-19 17:53:48.330659: I tensorflow/core/common_runtime/gpu/gpu_device.cc:1525] Created device /job:localhost/replica:0/task:0/device:GPU:3 with 9653 MB memory:  -> device: 3, name: NVIDIA GeForce RTX 2080 Ti, pci bus id: 0000:61:00.0, compute capability: 7.5\n",
      "2023-06-19 17:53:48.332326: I tensorflow/core/common_runtime/gpu/gpu_device.cc:1525] Created device /job:localhost/replica:0/task:0/device:GPU:4 with 9653 MB memory:  -> device: 4, name: NVIDIA GeForce RTX 2080 Ti, pci bus id: 0000:b1:00.0, compute capability: 7.5\n",
      "2023-06-19 17:53:48.333992: I tensorflow/core/common_runtime/gpu/gpu_device.cc:1525] Created device /job:localhost/replica:0/task:0/device:GPU:5 with 9653 MB memory:  -> device: 5, name: NVIDIA GeForce RTX 2080 Ti, pci bus id: 0000:b2:00.0, compute capability: 7.5\n",
      "2023-06-19 17:53:48.335642: I tensorflow/core/common_runtime/gpu/gpu_device.cc:1525] Created device /job:localhost/replica:0/task:0/device:GPU:6 with 9653 MB memory:  -> device: 6, name: NVIDIA GeForce RTX 2080 Ti, pci bus id: 0000:da:00.0, compute capability: 7.5\n",
      "2023-06-19 17:53:48.337293: I tensorflow/core/common_runtime/gpu/gpu_device.cc:1525] Created device /job:localhost/replica:0/task:0/device:GPU:7 with 9653 MB memory:  -> device: 7, name: NVIDIA GeForce RTX 2080 Ti, pci bus id: 0000:db:00.0, compute capability: 7.5\n"
     ]
    }
   ],
   "source": [
    "model = tf.keras.models.Sequential([\n",
    "    \n",
    "    # FIRST BLOCK\n",
    "    tf.keras.layers.Conv1D(32, 3, strides=1, activation='selu', padding='same',\n",
    "                            kernel_initializer='glorot_uniform',\n",
    "                           input_shape=(1700,1)),\n",
    "    \n",
    "    tf.keras.layers.Conv1D(32, 3, strides=1, activation='selu',padding='same',\n",
    "                            kernel_initializer='glorot_uniform',\n",
    "                          ),\n",
    "    tf.keras.layers.MaxPooling1D(1, strides=2, padding='same'),\n",
    "    tf.keras.layers.Dropout(0.2),\n",
    "\n",
    "#    SECOND BLOCK\n",
    "    tf.keras.layers.Conv1D(16, 3, strides=1, activation='selu', padding='same',\n",
    "                            kernel_initializer='glorot_uniform',\n",
    "                            ),\n",
    "    tf.keras.layers.Conv1D(16, 3, strides=1, activation='selu', padding='same',\n",
    "                            kernel_initializer='glorot_uniform',\n",
    "                          ),\n",
    "    tf.keras.layers.MaxPooling1D(1, strides=2, padding='same'),\n",
    "    tf.keras.layers.Dropout(0.2),\n",
    "    \n",
    "    tf.keras.layers.Flatten(),\n",
    "    \n",
    "    tf.keras.layers.Dense(32, activation='selu',\n",
    "                         kernel_initializer='lecun_normal',\n",
    "#                        activity_regularizer=tf.keras.regularizers.l2(0.01))\n",
    "#                        activity_regularizer=tf.keras.regularizers.l1(0.01)\n",
    "                         activity_regularizer='l2')\n",
    " \n",
    "                          \n",
    "#    tf.keras.layers.Dense(1)\n",
    "    \n",
    "])"
   ]
  },
  {
   "cell_type": "code",
   "execution_count": 26,
   "id": "f89d6f41-373f-41fd-a608-412e1bdf9386",
   "metadata": {},
   "outputs": [
    {
     "name": "stdout",
     "output_type": "stream",
     "text": [
      "Model: \"sequential\"\n",
      "_________________________________________________________________\n",
      " Layer (type)                Output Shape              Param #   \n",
      "=================================================================\n",
      " conv1d (Conv1D)             (None, 1700, 32)          128       \n",
      "                                                                 \n",
      " conv1d_1 (Conv1D)           (None, 1700, 32)          3104      \n",
      "                                                                 \n",
      " max_pooling1d (MaxPooling1D  (None, 850, 32)          0         \n",
      " )                                                               \n",
      "                                                                 \n",
      " dropout (Dropout)           (None, 850, 32)           0         \n",
      "                                                                 \n",
      " conv1d_2 (Conv1D)           (None, 850, 16)           1552      \n",
      "                                                                 \n",
      " conv1d_3 (Conv1D)           (None, 850, 16)           784       \n",
      "                                                                 \n",
      " max_pooling1d_1 (MaxPooling  (None, 425, 16)          0         \n",
      " 1D)                                                             \n",
      "                                                                 \n",
      " dropout_1 (Dropout)         (None, 425, 16)           0         \n",
      "                                                                 \n",
      " flatten (Flatten)           (None, 6800)              0         \n",
      "                                                                 \n",
      " dense (Dense)               (None, 32)                217632    \n",
      "                                                                 \n",
      "=================================================================\n",
      "Total params: 223,200\n",
      "Trainable params: 223,200\n",
      "Non-trainable params: 0\n",
      "_________________________________________________________________\n"
     ]
    }
   ],
   "source": [
    "model.summary()"
   ]
  },
  {
   "cell_type": "code",
   "execution_count": 27,
   "id": "eab803e5-0091-4bc5-ae8a-8e5598a28796",
   "metadata": {},
   "outputs": [],
   "source": [
    "# We have 2 inputs, 1 for each picture\n",
    "left_in = Input((1700, 1))\n",
    "right_in = Input((1700, 1))"
   ]
  },
  {
   "cell_type": "code",
   "execution_count": 28,
   "id": "98586227-8b03-4c3b-a21b-7c12cab57320",
   "metadata": {},
   "outputs": [],
   "source": [
    "# Connect each 'leg' of the network to each input\n",
    "# Remember, they have the same weights\n",
    "encoded_l = model(left_in)\n",
    "encoded_r = model(right_in)\n",
    "\n",
    "# Getting the L1 Distance between the 2 encodings\n",
    "L1_layer = Lambda(lambda tensor: K.abs(tensor[0] - tensor[1]))\n",
    "\n",
    "# Add the distance function to the network\n",
    "L1_distance = L1_layer([encoded_l, encoded_r])\n",
    "\n",
    "prediction = Dense(1, activation='sigmoid')(L1_distance)\n",
    "\n",
    "siamese_net = Model(inputs=[left_in,right_in],outputs=prediction)"
   ]
  },
  {
   "cell_type": "code",
   "execution_count": 29,
   "id": "568d4606-82fd-4780-9b33-cceb3cc2703f",
   "metadata": {},
   "outputs": [
    {
     "name": "stdout",
     "output_type": "stream",
     "text": [
      "Model: \"model\"\n",
      "__________________________________________________________________________________________________\n",
      " Layer (type)                   Output Shape         Param #     Connected to                     \n",
      "==================================================================================================\n",
      " input_1 (InputLayer)           [(None, 1700, 1)]    0           []                               \n",
      "                                                                                                  \n",
      " input_2 (InputLayer)           [(None, 1700, 1)]    0           []                               \n",
      "                                                                                                  \n",
      " sequential (Sequential)        (None, 32)           223200      ['input_1[0][0]',                \n",
      "                                                                  'input_2[0][0]']                \n",
      "                                                                                                  \n",
      " lambda (Lambda)                (None, 32)           0           ['sequential[0][0]',             \n",
      "                                                                  'sequential[1][0]']             \n",
      "                                                                                                  \n",
      " dense_1 (Dense)                (None, 1)            33          ['lambda[0][0]']                 \n",
      "                                                                                                  \n",
      "==================================================================================================\n",
      "Total params: 223,233\n",
      "Trainable params: 223,233\n",
      "Non-trainable params: 0\n",
      "__________________________________________________________________________________________________\n"
     ]
    }
   ],
   "source": [
    "siamese_net.summary()"
   ]
  },
  {
   "cell_type": "code",
   "execution_count": 30,
   "id": "c9d6de01-b127-4c95-a866-e3465dc3a1b9",
   "metadata": {},
   "outputs": [],
   "source": [
    "optimization = tf.keras.optimizers.Adam(learning_rate=0.0002)\n",
    "\n",
    "siamese_net.compile(loss=tf.keras.losses.MeanSquaredError(),\n",
    "                    optimizer=optimization,\n",
    "                    metrics=['MSE'])"
   ]
  },
  {
   "cell_type": "code",
   "execution_count": 31,
   "id": "238ff17f-e27a-442a-9d5d-5f1301b9568f",
   "metadata": {
    "scrolled": true,
    "tags": []
   },
   "outputs": [
    {
     "name": "stdout",
     "output_type": "stream",
     "text": [
      "Epoch 1/40\n"
     ]
    },
    {
     "name": "stderr",
     "output_type": "stream",
     "text": [
      "2023-03-06 08:30:39.269300: I tensorflow/stream_executor/cuda/cuda_dnn.cc:368] Loaded cuDNN version 8100\n",
      "2023-03-06 08:30:40.449378: W tensorflow/stream_executor/gpu/asm_compiler.cc:80] Couldn't get ptxas version string: INTERNAL: Running ptxas --version returned 32512\n",
      "2023-03-06 08:30:40.671922: W tensorflow/stream_executor/gpu/redzone_allocator.cc:314] INTERNAL: ptxas exited with non-zero error code 32512, output: \n",
      "Relying on driver to perform ptx compilation. \n",
      "Modify $PATH to customize ptxas location.\n",
      "This message will be only logged once.\n"
     ]
    },
    {
     "name": "stdout",
     "output_type": "stream",
     "text": [
      "1265/1265 [==============================] - 30s 20ms/step - loss: 0.0593 - MSE: 0.0321 - val_loss: 0.0370 - val_MSE: 0.0230\n",
      "Epoch 2/40\n",
      "1265/1265 [==============================] - 25s 20ms/step - loss: 0.0264 - MSE: 0.0100 - val_loss: 0.0242 - val_MSE: 0.0155\n",
      "Epoch 3/40\n",
      "1265/1265 [==============================] - 25s 20ms/step - loss: 0.0172 - MSE: 0.0061 - val_loss: 0.0159 - val_MSE: 0.0091\n",
      "Epoch 4/40\n",
      "1265/1265 [==============================] - 25s 20ms/step - loss: 0.0120 - MSE: 0.0042 - val_loss: 0.0112 - val_MSE: 0.0059\n",
      "Epoch 5/40\n",
      "1265/1265 [==============================] - 25s 20ms/step - loss: 0.0087 - MSE: 0.0030 - val_loss: 0.0084 - val_MSE: 0.0045\n",
      "Epoch 6/40\n",
      "1265/1265 [==============================] - 26s 20ms/step - loss: 0.0064 - MSE: 0.0022 - val_loss: 0.0062 - val_MSE: 0.0032\n",
      "Epoch 7/40\n",
      "1265/1265 [==============================] - 26s 20ms/step - loss: 0.0047 - MSE: 0.0017 - val_loss: 0.0046 - val_MSE: 0.0024\n",
      "Epoch 8/40\n",
      "1265/1265 [==============================] - 26s 20ms/step - loss: 0.0036 - MSE: 0.0014 - val_loss: 0.0036 - val_MSE: 0.0021\n",
      "Epoch 9/40\n",
      "1265/1265 [==============================] - 25s 20ms/step - loss: 0.0027 - MSE: 0.0011 - val_loss: 0.0028 - val_MSE: 0.0016\n",
      "Epoch 10/40\n",
      "1265/1265 [==============================] - 25s 20ms/step - loss: 0.0021 - MSE: 9.2511e-04 - val_loss: 0.0022 - val_MSE: 0.0013\n",
      "Epoch 11/40\n",
      "1265/1265 [==============================] - 25s 20ms/step - loss: 0.0017 - MSE: 8.0045e-04 - val_loss: 0.0018 - val_MSE: 0.0011\n",
      "Epoch 12/40\n",
      "1265/1265 [==============================] - 25s 20ms/step - loss: 0.0014 - MSE: 7.2172e-04 - val_loss: 0.0015 - val_MSE: 0.0010\n",
      "Epoch 13/40\n",
      "1265/1265 [==============================] - 25s 20ms/step - loss: 0.0012 - MSE: 6.7415e-04 - val_loss: 0.0013 - val_MSE: 9.8220e-04\n",
      "Epoch 14/40\n",
      "1265/1265 [==============================] - 25s 20ms/step - loss: 0.0010 - MSE: 6.4686e-04 - val_loss: 0.0011 - val_MSE: 9.0428e-04\n",
      "Epoch 15/40\n",
      "1265/1265 [==============================] - 25s 20ms/step - loss: 9.2088e-04 - MSE: 6.3370e-04 - val_loss: 0.0010 - val_MSE: 8.2109e-04\n",
      "Epoch 16/40\n",
      "1265/1265 [==============================] - 25s 20ms/step - loss: 8.5669e-04 - MSE: 6.2141e-04 - val_loss: 9.7814e-04 - val_MSE: 8.2047e-04\n",
      "Epoch 17/40\n",
      "1265/1265 [==============================] - 25s 20ms/step - loss: 8.0872e-04 - MSE: 5.9805e-04 - val_loss: 9.6057e-04 - val_MSE: 8.1647e-04\n",
      "Epoch 18/40\n",
      "1265/1265 [==============================] - 25s 20ms/step - loss: 7.6752e-04 - MSE: 5.6632e-04 - val_loss: 0.0010 - val_MSE: 8.7694e-04\n",
      "Epoch 19/40\n",
      "1265/1265 [==============================] - 25s 20ms/step - loss: 7.2929e-04 - MSE: 5.3312e-04 - val_loss: 0.0010 - val_MSE: 9.0149e-04\n",
      "Epoch 20/40\n",
      "1265/1265 [==============================] - 25s 20ms/step - loss: 6.9457e-04 - MSE: 5.0387e-04 - val_loss: 0.0010 - val_MSE: 8.8481e-04\n",
      "Epoch 21/40\n",
      "1265/1265 [==============================] - 25s 20ms/step - loss: 6.6247e-04 - MSE: 4.7620e-04 - val_loss: 0.0010 - val_MSE: 8.8169e-04\n",
      "Epoch 22/40\n",
      "1265/1265 [==============================] - 25s 20ms/step - loss: 6.3156e-04 - MSE: 4.5051e-04 - val_loss: 9.7734e-04 - val_MSE: 8.5424e-04\n",
      "Epoch 23/40\n",
      "1265/1265 [==============================] - 25s 20ms/step - loss: 6.0439e-04 - MSE: 4.2688e-04 - val_loss: 0.0010 - val_MSE: 8.9232e-04\n",
      "Epoch 24/40\n",
      "1265/1265 [==============================] - 25s 20ms/step - loss: 5.7649e-04 - MSE: 4.0167e-04 - val_loss: 9.4560e-04 - val_MSE: 8.2896e-04\n",
      "Epoch 25/40\n",
      "1265/1265 [==============================] - 26s 20ms/step - loss: 5.5090e-04 - MSE: 3.7862e-04 - val_loss: 9.6869e-04 - val_MSE: 8.4550e-04\n",
      "Epoch 26/40\n",
      "1265/1265 [==============================] - 26s 20ms/step - loss: 5.2941e-04 - MSE: 3.6109e-04 - val_loss: 9.9494e-04 - val_MSE: 8.8287e-04\n",
      "Epoch 27/40\n",
      "1265/1265 [==============================] - 26s 20ms/step - loss: 5.1075e-04 - MSE: 3.4680e-04 - val_loss: 9.2917e-04 - val_MSE: 8.1222e-04\n",
      "Epoch 28/40\n",
      "1265/1265 [==============================] - 26s 20ms/step - loss: 4.9188e-04 - MSE: 3.3223e-04 - val_loss: 9.2790e-04 - val_MSE: 8.1137e-04\n",
      "Epoch 29/40\n",
      "1265/1265 [==============================] - 25s 20ms/step - loss: 4.7530e-04 - MSE: 3.2039e-04 - val_loss: 9.0659e-04 - val_MSE: 7.9913e-04\n",
      "Epoch 30/40\n",
      "1265/1265 [==============================] - 26s 20ms/step - loss: 4.6077e-04 - MSE: 3.1065e-04 - val_loss: 8.7698e-04 - val_MSE: 7.6864e-04\n",
      "Epoch 31/40\n",
      "1265/1265 [==============================] - 26s 20ms/step - loss: 4.4623e-04 - MSE: 3.0022e-04 - val_loss: 9.2275e-04 - val_MSE: 8.2860e-04\n",
      "Epoch 32/40\n",
      "1265/1265 [==============================] - 26s 20ms/step - loss: 4.3591e-04 - MSE: 2.9394e-04 - val_loss: 8.8689e-04 - val_MSE: 7.8647e-04\n",
      "Epoch 33/40\n",
      "1265/1265 [==============================] - 26s 20ms/step - loss: 4.2290e-04 - MSE: 2.8453e-04 - val_loss: 9.0541e-04 - val_MSE: 8.1293e-04\n",
      "Epoch 34/40\n",
      "1265/1265 [==============================] - 26s 20ms/step - loss: 4.1164e-04 - MSE: 2.7749e-04 - val_loss: 8.9449e-04 - val_MSE: 8.0923e-04\n",
      "Epoch 35/40\n",
      "1265/1265 [==============================] - 26s 20ms/step - loss: 4.0378e-04 - MSE: 2.7272e-04 - val_loss: 8.8549e-04 - val_MSE: 7.9934e-04\n",
      "Epoch 36/40\n",
      "1265/1265 [==============================] - 26s 20ms/step - loss: 3.9255e-04 - MSE: 2.6486e-04 - val_loss: 9.3805e-04 - val_MSE: 8.5254e-04\n",
      "Epoch 37/40\n",
      "1265/1265 [==============================] - 26s 20ms/step - loss: 3.8612e-04 - MSE: 2.6182e-04 - val_loss: 9.7391e-04 - val_MSE: 8.9942e-04\n",
      "Epoch 38/40\n",
      "1265/1265 [==============================] - 26s 20ms/step - loss: 3.7825e-04 - MSE: 2.5684e-04 - val_loss: 8.9487e-04 - val_MSE: 8.1341e-04\n",
      "Epoch 39/40\n",
      "1265/1265 [==============================] - 26s 20ms/step - loss: 3.6921e-04 - MSE: 2.5103e-04 - val_loss: 8.7617e-04 - val_MSE: 7.9518e-04\n",
      "Epoch 40/40\n",
      "1265/1265 [==============================] - 26s 20ms/step - loss: 3.6319e-04 - MSE: 2.4728e-04 - val_loss: 8.9151e-04 - val_MSE: 8.0911e-04\n"
     ]
    }
   ],
   "source": [
    "history = siamese_net.fit([left_input, right_input], score,\n",
    "          batch_size=256,\n",
    "          epochs=40,\n",
    "          validation_data=([test_left, test_right], test_score)\n",
    "               )"
   ]
  },
  {
   "cell_type": "code",
   "execution_count": 32,
   "id": "9d13c7fb-91ed-44cd-ba24-0fd46c7307f8",
   "metadata": {},
   "outputs": [
    {
     "data": {
      "image/png": "[encoded data removed]",
      "text/plain": [
       "<Figure size 640x480 with 1 Axes>"
      ]
     },
     "metadata": {},
     "output_type": "display_data"
    }
   ],
   "source": [
    "import matplotlib\n",
    "import matplotlib.pyplot as plt\n",
    "%matplotlib inline\n",
    "# construct a plot that plots and displays the training history\n",
    "N = np.arange(0, 40)\n",
    "plt.style.use(\"classic\")\n",
    "plt.figure(figsize=(8,6))\n",
    "plt.plot(N, history.history[\"loss\"], label=\"Training Set\")\n",
    "plt.plot(N, history.history[\"val_loss\"], label=\"External Test Set\")\n",
    "#plt.plot(N, ext_val, label=\"external_validation\")\n",
    "plt.title(\"Training Loss and Accuracy\")\n",
    "plt.xlabel(\"Epoch #\")\n",
    "plt.ylabel(\"MSE\")\n",
    "plt.legend(loc=\"upper right\")\n",
    "plt.show(block=True)"
   ]
  },
  {
   "cell_type": "markdown",
   "id": "8fd0c58a-0cf4-4d8c-b309-100669e21396",
   "metadata": {},
   "source": [
    "# External Test Set"
   ]
  },
  {
   "cell_type": "code",
   "execution_count": 33,
   "id": "dd92930c-0d1f-44a0-b9c0-81e76f18db12",
   "metadata": {},
   "outputs": [],
   "source": [
    "predicted_external = siamese_net.predict([test_left, test_right])\n",
    "predicted_external = [i[0] for i in predicted_external]"
   ]
  },
  {
   "cell_type": "code",
   "execution_count": 34,
   "id": "d122fa5c-18f9-4114-ae83-a96486e7a66a",
   "metadata": {},
   "outputs": [
    {
     "data": {
      "text/plain": [
       "PearsonRResult(statistic=0.40479779955735584, pvalue=2.2354310061169208e-85)"
      ]
     },
     "execution_count": 34,
     "metadata": {},
     "output_type": "execute_result"
    }
   ],
   "source": [
    "from scipy import stats\n",
    "\n",
    "stats.pearsonr(test_score, predicted_external)"
   ]
  },
  {
   "cell_type": "code",
   "execution_count": 35,
   "id": "87e46036-95c3-49f5-98ea-11e264c7b14b",
   "metadata": {},
   "outputs": [
    {
     "data": {
      "text/plain": [
       "array([0.        , 0.        , 0.        , ..., 0.2289044 , 0.23286256,\n",
       "       0.24710128])"
      ]
     },
     "execution_count": 35,
     "metadata": {},
     "output_type": "execute_result"
    }
   ],
   "source": [
    "test_score"
   ]
  },
  {
   "cell_type": "markdown",
   "id": "9b396485-28ad-4e34-8cfb-f144e2af8fc0",
   "metadata": {},
   "source": [
    "# Training Set"
   ]
  },
  {
   "cell_type": "code",
   "execution_count": 36,
   "id": "ff7bc2ba-8b4f-4422-beaa-2539745cd53f",
   "metadata": {},
   "outputs": [],
   "source": [
    "predicted_training = siamese_net.predict([left_input, right_input])\n",
    "predicted_training = predicted_training.reshape(323640,)"
   ]
  },
  {
   "cell_type": "code",
   "execution_count": 37,
   "id": "792e4370-8a21-4f5e-9c68-c6046ce54331",
   "metadata": {},
   "outputs": [
    {
     "data": {
      "text/plain": [
       "PearsonRResult(statistic=0.9586437135774541, pvalue=0.0)"
      ]
     },
     "execution_count": 37,
     "metadata": {},
     "output_type": "execute_result"
    }
   ],
   "source": [
    "stats.pearsonr(score, predicted_training)"
   ]
  },
  {
   "cell_type": "code",
   "execution_count": null,
   "id": "e2c8e440-e015-4593-9d7b-c55e6010557a",
   "metadata": {},
   "outputs": [],
   "source": []
  },
  {
   "cell_type": "markdown",
   "id": "9887a59c-5a26-4072-8442-e92b27396b00",
   "metadata": {},
   "source": [
    "# Test-Split Set"
   ]
  },
  {
   "cell_type": "code",
   "execution_count": 38,
   "id": "ef9e46dd-656b-4016-88c3-a51478267ad8",
   "metadata": {},
   "outputs": [
    {
     "data": {
      "text/html": [
       "<div>\n",
       "<style scoped>\n",
       "    .dataframe tbody tr th:only-of-type {\n",
       "        vertical-align: middle;\n",
       "    }\n",
       "\n",
       "    .dataframe tbody tr th {\n",
       "        vertical-align: top;\n",
       "    }\n",
       "\n",
       "    .dataframe thead th {\n",
       "        text-align: right;\n",
       "    }\n",
       "</style>\n",
       "<table border=\"1\" class=\"dataframe\">\n",
       "  <thead>\n",
       "    <tr style=\"text-align: right;\">\n",
       "      <th></th>\n",
       "      <th>PID1</th>\n",
       "      <th>PID2</th>\n",
       "      <th>Jaccard_Index</th>\n",
       "    </tr>\n",
       "  </thead>\n",
       "  <tbody>\n",
       "    <tr>\n",
       "      <th>252371</th>\n",
       "      <td>PXD017642</td>\n",
       "      <td>PXD001792</td>\n",
       "      <td>0.015518</td>\n",
       "    </tr>\n",
       "    <tr>\n",
       "      <th>320959</th>\n",
       "      <td>PXD010468</td>\n",
       "      <td>PXD002844</td>\n",
       "      <td>0.034405</td>\n",
       "    </tr>\n",
       "    <tr>\n",
       "      <th>328388</th>\n",
       "      <td>PXD019702</td>\n",
       "      <td>PXD003666</td>\n",
       "      <td>0.037709</td>\n",
       "    </tr>\n",
       "    <tr>\n",
       "      <th>243191</th>\n",
       "      <td>PXD012953</td>\n",
       "      <td>PXD018177</td>\n",
       "      <td>0.013959</td>\n",
       "    </tr>\n",
       "    <tr>\n",
       "      <th>39752</th>\n",
       "      <td>PXD013405</td>\n",
       "      <td>PXD006008</td>\n",
       "      <td>0.000378</td>\n",
       "    </tr>\n",
       "    <tr>\n",
       "      <th>...</th>\n",
       "      <td>...</td>\n",
       "      <td>...</td>\n",
       "      <td>...</td>\n",
       "    </tr>\n",
       "    <tr>\n",
       "      <th>300253</th>\n",
       "      <td>PXD004117</td>\n",
       "      <td>PXD009759</td>\n",
       "      <td>0.026976</td>\n",
       "    </tr>\n",
       "    <tr>\n",
       "      <th>125098</th>\n",
       "      <td>PXD006732</td>\n",
       "      <td>PXD002204</td>\n",
       "      <td>0.003120</td>\n",
       "    </tr>\n",
       "    <tr>\n",
       "      <th>12147</th>\n",
       "      <td>PXD021198</td>\n",
       "      <td>PXD015780</td>\n",
       "      <td>0.000000</td>\n",
       "    </tr>\n",
       "    <tr>\n",
       "      <th>69495</th>\n",
       "      <td>PXD010600</td>\n",
       "      <td>PXD004270</td>\n",
       "      <td>0.001086</td>\n",
       "    </tr>\n",
       "    <tr>\n",
       "      <th>169391</th>\n",
       "      <td>PXD010672</td>\n",
       "      <td>PXD021612</td>\n",
       "      <td>0.005759</td>\n",
       "    </tr>\n",
       "  </tbody>\n",
       "</table>\n",
       "<p>80910 rows × 3 columns</p>\n",
       "</div>"
      ],
      "text/plain": [
       "             PID1       PID2  Jaccard_Index\n",
       "252371  PXD017642  PXD001792       0.015518\n",
       "320959  PXD010468  PXD002844       0.034405\n",
       "328388  PXD019702  PXD003666       0.037709\n",
       "243191  PXD012953  PXD018177       0.013959\n",
       "39752   PXD013405  PXD006008       0.000378\n",
       "...           ...        ...            ...\n",
       "300253  PXD004117  PXD009759       0.026976\n",
       "125098  PXD006732  PXD002204       0.003120\n",
       "12147   PXD021198  PXD015780       0.000000\n",
       "69495   PXD010600  PXD004270       0.001086\n",
       "169391  PXD010672  PXD021612       0.005759\n",
       "\n",
       "[80910 rows x 3 columns]"
      ]
     },
     "execution_count": 38,
     "metadata": {},
     "output_type": "execute_result"
    }
   ],
   "source": [
    "test"
   ]
  },
  {
   "cell_type": "code",
   "execution_count": 39,
   "id": "29dd538f-778a-433c-9dc5-327e51b2bb2b",
   "metadata": {},
   "outputs": [],
   "source": [
    "internal_test = test[\"Jaccard_Index\"]"
   ]
  },
  {
   "cell_type": "code",
   "execution_count": 40,
   "id": "c3b55213-9dd7-4bad-8813-80b8e3144fa9",
   "metadata": {},
   "outputs": [],
   "source": [
    "test1 = []\n",
    "test2 = []\n",
    "\n",
    "for index, row in test.iterrows():\n",
    "\n",
    "    test1.append( np.array(df.loc[row['PID1']]) )\n",
    "    test2.append( np.array(df.loc[row['PID2']]) )\n",
    "    "
   ]
  },
  {
   "cell_type": "code",
   "execution_count": 41,
   "id": "f05c7d0a-3f76-4988-b239-a1fa7a49f43e",
   "metadata": {},
   "outputs": [
    {
     "data": {
      "text/plain": [
       "80910"
      ]
     },
     "execution_count": 41,
     "metadata": {},
     "output_type": "execute_result"
    }
   ],
   "source": [
    "len(test1)"
   ]
  },
  {
   "cell_type": "code",
   "execution_count": 42,
   "id": "af7cf03d-05e2-4f0f-9baa-61415d53dcaf",
   "metadata": {},
   "outputs": [],
   "source": [
    "test1 = np.array(test1).reshape((80910, 1700, 1))\n",
    "test2 = np.array(test2).reshape((80910, 1700, 1))"
   ]
  },
  {
   "cell_type": "code",
   "execution_count": 43,
   "id": "57afd44c-7a55-42e4-bf46-528b7fa8ec7a",
   "metadata": {},
   "outputs": [
    {
     "data": {
      "text/plain": [
       "array([[0.02323242],\n",
       "       [0.04396186],\n",
       "       [0.04369426],\n",
       "       ...,\n",
       "       [0.00985842],\n",
       "       [0.00866882],\n",
       "       [0.01083566]], dtype=float32)"
      ]
     },
     "execution_count": 43,
     "metadata": {},
     "output_type": "execute_result"
    }
   ],
   "source": [
    "predicted_testing = siamese_net.predict([test1, test2])\n",
    "predicted_testing\n",
    "#predicted_testing = [i[0] for i in predicted_training]"
   ]
  },
  {
   "cell_type": "code",
   "execution_count": 44,
   "id": "a3521421-b06c-413f-a5f2-fb8f80ee0741",
   "metadata": {},
   "outputs": [],
   "source": [
    "predicted_testing = predicted_testing.reshape(80910,)"
   ]
  },
  {
   "cell_type": "code",
   "execution_count": 45,
   "id": "8e63436c-7924-477e-8f86-6088488a471d",
   "metadata": {},
   "outputs": [
    {
     "data": {
      "text/plain": [
       "PearsonRResult(statistic=0.9494714590677565, pvalue=0.0)"
      ]
     },
     "execution_count": 45,
     "metadata": {},
     "output_type": "execute_result"
    }
   ],
   "source": [
    "stats.pearsonr(internal_test, predicted_testing)"
   ]
  },
  {
   "cell_type": "code",
   "execution_count": null,
   "id": "f66e391a-c74e-4463-8587-e2353bf4d74b",
   "metadata": {},
   "outputs": [],
   "source": []
  },
  {
   "cell_type": "markdown",
   "id": "655eea65-4562-4a05-ad38-6338a822bb1f",
   "metadata": {},
   "source": [
    "# Validation"
   ]
  },
  {
   "cell_type": "code",
   "execution_count": 46,
   "id": "0c6f533c-0d57-4a28-8e9c-2b377caddb7c",
   "metadata": {},
   "outputs": [
    {
     "data": {
      "image/png": "[encoded data removed]",
      "text/plain": [
       "<Figure size 640x640 with 1 Axes>"
      ]
     },
     "metadata": {},
     "output_type": "display_data"
    }
   ],
   "source": [
    "import matplotlib\n",
    "import matplotlib.pyplot as plt\n",
    "%matplotlib inline\n",
    "# construct a plot that plots and displays the training history\n",
    "plt.style.use(\"classic\")\n",
    "plt.figure(figsize=(8,8))\n",
    "plt.scatter(predicted_training, score, label=\"Training Set\", c='b', edgecolors=\"None\")\n",
    "plt.scatter(predicted_testing, internal_test, label=\"Validation Set\", c='g', edgecolors=\"None\")\n",
    "plt.scatter(predicted_external, test_score, label=\"External Test Set\", c='r', edgecolors=\"None\")\n",
    "plt.xlim(0,0.7)\n",
    "plt.ylim(0,0.7)\n",
    "plt.title(\"Training Loss and Accuracy\")\n",
    "plt.xlabel(\"Predicted Similarity\")\n",
    "plt.ylabel(\"Ground Truth\")\n",
    "plt.legend(loc=\"upper right\")\n",
    "plt.savefig(\"siamese_all.png\")\n",
    "plt.show(block=True)"
   ]
  },
  {
   "cell_type": "code",
   "execution_count": 47,
   "id": "e1e55643-a425-43f3-b4c1-6dd4529dc61d",
   "metadata": {},
   "outputs": [
    {
     "name": "stdout",
     "output_type": "stream",
     "text": [
      "pearson PearsonRResult(statistic=0.9549625653326231, pvalue=0.0)\n"
     ]
    }
   ],
   "source": [
    "all_predicted = list(predicted_training) + list(predicted_testing) + list(predicted_external)\n",
    "all_truth = list(score) + list(internal_test) + list(test_score)\n",
    "\n",
    "print(\"pearson\", stats.pearsonr(all_predicted, all_truth))"
   ]
  },
  {
   "cell_type": "code",
   "execution_count": null,
   "id": "6e5f4769-3178-4fc4-b711-851a5af32665",
   "metadata": {},
   "outputs": [],
   "source": []
  }
 ],
 "metadata": {
  "kernelspec": {
   "display_name": "Python 3 (ipykernel)",
   "language": "python",
   "name": "python3"
  },
  "language_info": {
   "codemirror_mode": {
    "name": "ipython",
    "version": 3
   },
   "file_extension": ".py",
   "mimetype": "text/x-python",
   "name": "python",
   "nbconvert_exporter": "python",
   "pygments_lexer": "ipython3",
   "version": "3.10.9"
  }
 },
 "nbformat": 4,
 "nbformat_minor": 5
}
