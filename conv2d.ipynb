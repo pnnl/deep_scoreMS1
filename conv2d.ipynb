{
 "cells": [
  {
   "cell_type": "code",
   "execution_count": 1,
   "id": "519be887-58fb-4852-ac18-43be46e5a788",
   "metadata": {},
   "outputs": [],
   "source": [
    "import numpy as np\n",
    "import pandas as pd\n",
    "import matplotlib.pyplot as plt\n",
    "import glob\n",
    "import os\n",
    "%matplotlib inline\n",
    "\n",
    "from bin_time_mz import bin_time"
   ]
  },
  {
   "cell_type": "code",
   "execution_count": 2,
   "id": "711e696d-b209-4cc3-9bb0-be6bce31a28c",
   "metadata": {},
   "outputs": [],
   "source": [
    "import tensorflow as tf\n",
    "from tensorflow.keras import *"
   ]
  },
  {
   "cell_type": "code",
   "execution_count": 3,
   "id": "78fdea76-80b1-438f-851f-fc2435c76ed8",
   "metadata": {},
   "outputs": [
    {
     "name": "stdout",
     "output_type": "stream",
     "text": [
      "Num GPUs Available:  8\n"
     ]
    }
   ],
   "source": [
    "print(\"Num GPUs Available: \", len(tf.config.list_physical_devices('GPU')))"
   ]
  },
  {
   "cell_type": "markdown",
   "id": "a6f67455-dd93-4b6c-b4cd-f6037d88b1d9",
   "metadata": {},
   "source": [
    "# Load Data and process MS1 features"
   ]
  },
  {
   "cell_type": "code",
   "execution_count": 4,
   "id": "bd40aaab-36b4-462a-b4cf-ab1ec7eb041d",
   "metadata": {},
   "outputs": [],
   "source": [
    "table = {}\n",
    "\n",
    "for i in glob.glob(\"ms1_training/*\"):\n",
    "    \n",
    "    df = pd.read_csv(i, index_col=0)\n",
    "    binned = bin_time(df, rt_window=1, mz_window=1.0005079)\n",
    "    table[i.replace(\"ms1_training/\",\"\").replace(\"_ms1.csv\", \"\")] = binned\n",
    "    "
   ]
  },
  {
   "cell_type": "code",
   "execution_count": 5,
   "id": "41f3ac72-99f8-4e19-9be8-0f322cb2feda",
   "metadata": {},
   "outputs": [],
   "source": [
    "for i in glob.glob(\"ms1_external/*\"):\n",
    "    \n",
    "    df = pd.read_csv(i, index_col=0)\n",
    "    binned = bin_time(df, rt_window=1, mz_window=1.0005079)\n",
    "    table[i.replace(\"ms1_external/\",\"\").replace(\"_ms1.csv\", \"\")] = binned\n",
    "    "
   ]
  },
  {
   "cell_type": "code",
   "execution_count": 6,
   "id": "5226fe54-6fd5-48c6-9eba-33851c9646df",
   "metadata": {},
   "outputs": [
    {
     "data": {
      "text/html": [
       "<div>\n",
       "<style scoped>\n",
       "    .dataframe tbody tr th:only-of-type {\n",
       "        vertical-align: middle;\n",
       "    }\n",
       "\n",
       "    .dataframe tbody tr th {\n",
       "        vertical-align: top;\n",
       "    }\n",
       "\n",
       "    .dataframe thead th {\n",
       "        text-align: right;\n",
       "    }\n",
       "</style>\n",
       "<table border=\"1\" class=\"dataframe\">\n",
       "  <thead>\n",
       "    <tr style=\"text-align: right;\">\n",
       "      <th></th>\n",
       "      <th>0</th>\n",
       "      <th>1</th>\n",
       "      <th>2</th>\n",
       "      <th>3</th>\n",
       "      <th>4</th>\n",
       "      <th>5</th>\n",
       "      <th>6</th>\n",
       "      <th>7</th>\n",
       "      <th>8</th>\n",
       "      <th>9</th>\n",
       "      <th>...</th>\n",
       "      <th>1790</th>\n",
       "      <th>1791</th>\n",
       "      <th>1792</th>\n",
       "      <th>1793</th>\n",
       "      <th>1794</th>\n",
       "      <th>1795</th>\n",
       "      <th>1796</th>\n",
       "      <th>1797</th>\n",
       "      <th>1798</th>\n",
       "      <th>1799</th>\n",
       "    </tr>\n",
       "  </thead>\n",
       "  <tbody>\n",
       "    <tr>\n",
       "      <th>PXD016880</th>\n",
       "      <td>0.0</td>\n",
       "      <td>0.0</td>\n",
       "      <td>0.0</td>\n",
       "      <td>0.0</td>\n",
       "      <td>0.0</td>\n",
       "      <td>0.0</td>\n",
       "      <td>0.0</td>\n",
       "      <td>0.0</td>\n",
       "      <td>0.0</td>\n",
       "      <td>0.0</td>\n",
       "      <td>...</td>\n",
       "      <td>0.0</td>\n",
       "      <td>0.0</td>\n",
       "      <td>0.0</td>\n",
       "      <td>0.0</td>\n",
       "      <td>0.0</td>\n",
       "      <td>0.000000</td>\n",
       "      <td>0.0</td>\n",
       "      <td>0.0</td>\n",
       "      <td>0.000000</td>\n",
       "      <td>0.00000</td>\n",
       "    </tr>\n",
       "    <tr>\n",
       "      <th>PXD007585</th>\n",
       "      <td>0.0</td>\n",
       "      <td>0.0</td>\n",
       "      <td>0.0</td>\n",
       "      <td>0.0</td>\n",
       "      <td>0.0</td>\n",
       "      <td>0.0</td>\n",
       "      <td>0.0</td>\n",
       "      <td>0.0</td>\n",
       "      <td>0.0</td>\n",
       "      <td>0.0</td>\n",
       "      <td>...</td>\n",
       "      <td>0.0</td>\n",
       "      <td>0.0</td>\n",
       "      <td>0.0</td>\n",
       "      <td>0.0</td>\n",
       "      <td>0.0</td>\n",
       "      <td>0.000000</td>\n",
       "      <td>0.0</td>\n",
       "      <td>0.0</td>\n",
       "      <td>0.000000</td>\n",
       "      <td>0.00000</td>\n",
       "    </tr>\n",
       "    <tr>\n",
       "      <th>PXD016519</th>\n",
       "      <td>0.0</td>\n",
       "      <td>0.0</td>\n",
       "      <td>0.0</td>\n",
       "      <td>0.0</td>\n",
       "      <td>0.0</td>\n",
       "      <td>0.0</td>\n",
       "      <td>0.0</td>\n",
       "      <td>0.0</td>\n",
       "      <td>0.0</td>\n",
       "      <td>0.0</td>\n",
       "      <td>...</td>\n",
       "      <td>0.0</td>\n",
       "      <td>0.0</td>\n",
       "      <td>0.0</td>\n",
       "      <td>0.0</td>\n",
       "      <td>0.0</td>\n",
       "      <td>0.000000</td>\n",
       "      <td>0.0</td>\n",
       "      <td>0.0</td>\n",
       "      <td>0.000000</td>\n",
       "      <td>0.00000</td>\n",
       "    </tr>\n",
       "    <tr>\n",
       "      <th>PXD002601</th>\n",
       "      <td>0.0</td>\n",
       "      <td>0.0</td>\n",
       "      <td>0.0</td>\n",
       "      <td>0.0</td>\n",
       "      <td>0.0</td>\n",
       "      <td>0.0</td>\n",
       "      <td>0.0</td>\n",
       "      <td>0.0</td>\n",
       "      <td>0.0</td>\n",
       "      <td>0.0</td>\n",
       "      <td>...</td>\n",
       "      <td>0.0</td>\n",
       "      <td>0.0</td>\n",
       "      <td>0.0</td>\n",
       "      <td>0.0</td>\n",
       "      <td>0.0</td>\n",
       "      <td>0.000000</td>\n",
       "      <td>0.0</td>\n",
       "      <td>0.0</td>\n",
       "      <td>0.000000</td>\n",
       "      <td>0.00000</td>\n",
       "    </tr>\n",
       "    <tr>\n",
       "      <th>PXD009207</th>\n",
       "      <td>0.0</td>\n",
       "      <td>0.0</td>\n",
       "      <td>0.0</td>\n",
       "      <td>0.0</td>\n",
       "      <td>0.0</td>\n",
       "      <td>0.0</td>\n",
       "      <td>0.0</td>\n",
       "      <td>0.0</td>\n",
       "      <td>0.0</td>\n",
       "      <td>0.0</td>\n",
       "      <td>...</td>\n",
       "      <td>0.0</td>\n",
       "      <td>0.0</td>\n",
       "      <td>0.0</td>\n",
       "      <td>0.0</td>\n",
       "      <td>0.0</td>\n",
       "      <td>0.000000</td>\n",
       "      <td>0.0</td>\n",
       "      <td>0.0</td>\n",
       "      <td>0.000000</td>\n",
       "      <td>0.00000</td>\n",
       "    </tr>\n",
       "    <tr>\n",
       "      <th>...</th>\n",
       "      <td>...</td>\n",
       "      <td>...</td>\n",
       "      <td>...</td>\n",
       "      <td>...</td>\n",
       "      <td>...</td>\n",
       "      <td>...</td>\n",
       "      <td>...</td>\n",
       "      <td>...</td>\n",
       "      <td>...</td>\n",
       "      <td>...</td>\n",
       "      <td>...</td>\n",
       "      <td>...</td>\n",
       "      <td>...</td>\n",
       "      <td>...</td>\n",
       "      <td>...</td>\n",
       "      <td>...</td>\n",
       "      <td>...</td>\n",
       "      <td>...</td>\n",
       "      <td>...</td>\n",
       "      <td>...</td>\n",
       "      <td>...</td>\n",
       "    </tr>\n",
       "    <tr>\n",
       "      <th>PXD015392</th>\n",
       "      <td>0.0</td>\n",
       "      <td>0.0</td>\n",
       "      <td>0.0</td>\n",
       "      <td>0.0</td>\n",
       "      <td>0.0</td>\n",
       "      <td>0.0</td>\n",
       "      <td>0.0</td>\n",
       "      <td>0.0</td>\n",
       "      <td>0.0</td>\n",
       "      <td>0.0</td>\n",
       "      <td>...</td>\n",
       "      <td>0.0</td>\n",
       "      <td>0.0</td>\n",
       "      <td>0.0</td>\n",
       "      <td>0.0</td>\n",
       "      <td>0.0</td>\n",
       "      <td>0.000294</td>\n",
       "      <td>0.0</td>\n",
       "      <td>0.0</td>\n",
       "      <td>0.000159</td>\n",
       "      <td>0.00072</td>\n",
       "    </tr>\n",
       "    <tr>\n",
       "      <th>PXD012798</th>\n",
       "      <td>0.0</td>\n",
       "      <td>0.0</td>\n",
       "      <td>0.0</td>\n",
       "      <td>0.0</td>\n",
       "      <td>0.0</td>\n",
       "      <td>0.0</td>\n",
       "      <td>0.0</td>\n",
       "      <td>0.0</td>\n",
       "      <td>0.0</td>\n",
       "      <td>0.0</td>\n",
       "      <td>...</td>\n",
       "      <td>0.0</td>\n",
       "      <td>0.0</td>\n",
       "      <td>0.0</td>\n",
       "      <td>0.0</td>\n",
       "      <td>0.0</td>\n",
       "      <td>0.000000</td>\n",
       "      <td>0.0</td>\n",
       "      <td>0.0</td>\n",
       "      <td>0.000000</td>\n",
       "      <td>0.00000</td>\n",
       "    </tr>\n",
       "    <tr>\n",
       "      <th>PXD029420</th>\n",
       "      <td>0.0</td>\n",
       "      <td>0.0</td>\n",
       "      <td>0.0</td>\n",
       "      <td>0.0</td>\n",
       "      <td>0.0</td>\n",
       "      <td>0.0</td>\n",
       "      <td>0.0</td>\n",
       "      <td>0.0</td>\n",
       "      <td>0.0</td>\n",
       "      <td>0.0</td>\n",
       "      <td>...</td>\n",
       "      <td>0.0</td>\n",
       "      <td>0.0</td>\n",
       "      <td>0.0</td>\n",
       "      <td>0.0</td>\n",
       "      <td>0.0</td>\n",
       "      <td>0.000000</td>\n",
       "      <td>0.0</td>\n",
       "      <td>0.0</td>\n",
       "      <td>0.000000</td>\n",
       "      <td>0.00000</td>\n",
       "    </tr>\n",
       "    <tr>\n",
       "      <th>PXD009443</th>\n",
       "      <td>0.0</td>\n",
       "      <td>0.0</td>\n",
       "      <td>0.0</td>\n",
       "      <td>0.0</td>\n",
       "      <td>0.0</td>\n",
       "      <td>0.0</td>\n",
       "      <td>0.0</td>\n",
       "      <td>0.0</td>\n",
       "      <td>0.0</td>\n",
       "      <td>0.0</td>\n",
       "      <td>...</td>\n",
       "      <td>0.0</td>\n",
       "      <td>0.0</td>\n",
       "      <td>0.0</td>\n",
       "      <td>0.0</td>\n",
       "      <td>0.0</td>\n",
       "      <td>0.000000</td>\n",
       "      <td>0.0</td>\n",
       "      <td>0.0</td>\n",
       "      <td>0.000000</td>\n",
       "      <td>0.00000</td>\n",
       "    </tr>\n",
       "    <tr>\n",
       "      <th>PXD006424</th>\n",
       "      <td>0.0</td>\n",
       "      <td>0.0</td>\n",
       "      <td>0.0</td>\n",
       "      <td>0.0</td>\n",
       "      <td>0.0</td>\n",
       "      <td>0.0</td>\n",
       "      <td>0.0</td>\n",
       "      <td>0.0</td>\n",
       "      <td>0.0</td>\n",
       "      <td>0.0</td>\n",
       "      <td>...</td>\n",
       "      <td>0.0</td>\n",
       "      <td>0.0</td>\n",
       "      <td>0.0</td>\n",
       "      <td>0.0</td>\n",
       "      <td>0.0</td>\n",
       "      <td>0.000000</td>\n",
       "      <td>0.0</td>\n",
       "      <td>0.0</td>\n",
       "      <td>0.000000</td>\n",
       "      <td>0.00000</td>\n",
       "    </tr>\n",
       "  </tbody>\n",
       "</table>\n",
       "<p>966 rows × 1800 columns</p>\n",
       "</div>"
      ],
      "text/plain": [
       "           0     1     2     3     4     5     6     7     8     9     ...  \\\n",
       "PXD016880   0.0   0.0   0.0   0.0   0.0   0.0   0.0   0.0   0.0   0.0  ...   \n",
       "PXD007585   0.0   0.0   0.0   0.0   0.0   0.0   0.0   0.0   0.0   0.0  ...   \n",
       "PXD016519   0.0   0.0   0.0   0.0   0.0   0.0   0.0   0.0   0.0   0.0  ...   \n",
       "PXD002601   0.0   0.0   0.0   0.0   0.0   0.0   0.0   0.0   0.0   0.0  ...   \n",
       "PXD009207   0.0   0.0   0.0   0.0   0.0   0.0   0.0   0.0   0.0   0.0  ...   \n",
       "...         ...   ...   ...   ...   ...   ...   ...   ...   ...   ...  ...   \n",
       "PXD015392   0.0   0.0   0.0   0.0   0.0   0.0   0.0   0.0   0.0   0.0  ...   \n",
       "PXD012798   0.0   0.0   0.0   0.0   0.0   0.0   0.0   0.0   0.0   0.0  ...   \n",
       "PXD029420   0.0   0.0   0.0   0.0   0.0   0.0   0.0   0.0   0.0   0.0  ...   \n",
       "PXD009443   0.0   0.0   0.0   0.0   0.0   0.0   0.0   0.0   0.0   0.0  ...   \n",
       "PXD006424   0.0   0.0   0.0   0.0   0.0   0.0   0.0   0.0   0.0   0.0  ...   \n",
       "\n",
       "           1790  1791  1792  1793  1794      1795  1796  1797      1798  \\\n",
       "PXD016880   0.0   0.0   0.0   0.0   0.0  0.000000   0.0   0.0  0.000000   \n",
       "PXD007585   0.0   0.0   0.0   0.0   0.0  0.000000   0.0   0.0  0.000000   \n",
       "PXD016519   0.0   0.0   0.0   0.0   0.0  0.000000   0.0   0.0  0.000000   \n",
       "PXD002601   0.0   0.0   0.0   0.0   0.0  0.000000   0.0   0.0  0.000000   \n",
       "PXD009207   0.0   0.0   0.0   0.0   0.0  0.000000   0.0   0.0  0.000000   \n",
       "...         ...   ...   ...   ...   ...       ...   ...   ...       ...   \n",
       "PXD015392   0.0   0.0   0.0   0.0   0.0  0.000294   0.0   0.0  0.000159   \n",
       "PXD012798   0.0   0.0   0.0   0.0   0.0  0.000000   0.0   0.0  0.000000   \n",
       "PXD029420   0.0   0.0   0.0   0.0   0.0  0.000000   0.0   0.0  0.000000   \n",
       "PXD009443   0.0   0.0   0.0   0.0   0.0  0.000000   0.0   0.0  0.000000   \n",
       "PXD006424   0.0   0.0   0.0   0.0   0.0  0.000000   0.0   0.0  0.000000   \n",
       "\n",
       "              1799  \n",
       "PXD016880  0.00000  \n",
       "PXD007585  0.00000  \n",
       "PXD016519  0.00000  \n",
       "PXD002601  0.00000  \n",
       "PXD009207  0.00000  \n",
       "...            ...  \n",
       "PXD015392  0.00072  \n",
       "PXD012798  0.00000  \n",
       "PXD029420  0.00000  \n",
       "PXD009443  0.00000  \n",
       "PXD006424  0.00000  \n",
       "\n",
       "[966 rows x 1800 columns]"
      ]
     },
     "execution_count": 6,
     "metadata": {},
     "output_type": "execute_result"
    }
   ],
   "source": [
    "df = pd.DataFrame(table).transpose()\n",
    "df = df.apply(lambda x: x/x.max(), axis=1)\n",
    "df"
   ]
  },
  {
   "cell_type": "code",
   "execution_count": 7,
   "id": "24704b32-dcf9-48e0-8142-6da85521b53e",
   "metadata": {},
   "outputs": [],
   "source": [
    "del(table)"
   ]
  },
  {
   "cell_type": "markdown",
   "id": "179c130e-8e34-421d-b1e2-e30326ef71be",
   "metadata": {},
   "source": [
    "# Setup Training Data"
   ]
  },
  {
   "cell_type": "code",
   "execution_count": 8,
   "id": "cc280de1-69f0-4e76-8523-8867d136e0f7",
   "metadata": {},
   "outputs": [
    {
     "data": {
      "text/html": [
       "<div>\n",
       "<style scoped>\n",
       "    .dataframe tbody tr th:only-of-type {\n",
       "        vertical-align: middle;\n",
       "    }\n",
       "\n",
       "    .dataframe tbody tr th {\n",
       "        vertical-align: top;\n",
       "    }\n",
       "\n",
       "    .dataframe thead th {\n",
       "        text-align: right;\n",
       "    }\n",
       "</style>\n",
       "<table border=\"1\" class=\"dataframe\">\n",
       "  <thead>\n",
       "    <tr style=\"text-align: right;\">\n",
       "      <th></th>\n",
       "      <th>PID1</th>\n",
       "      <th>PID2</th>\n",
       "      <th>Jaccard_Index</th>\n",
       "    </tr>\n",
       "  </thead>\n",
       "  <tbody>\n",
       "    <tr>\n",
       "      <th>0</th>\n",
       "      <td>PXD002434</td>\n",
       "      <td>PXD012611</td>\n",
       "      <td>0.000000</td>\n",
       "    </tr>\n",
       "    <tr>\n",
       "      <th>1</th>\n",
       "      <td>PXD018291</td>\n",
       "      <td>PXD014062</td>\n",
       "      <td>0.000000</td>\n",
       "    </tr>\n",
       "    <tr>\n",
       "      <th>2</th>\n",
       "      <td>PXD006539</td>\n",
       "      <td>PXD000050</td>\n",
       "      <td>0.000000</td>\n",
       "    </tr>\n",
       "    <tr>\n",
       "      <th>3</th>\n",
       "      <td>PXD018291</td>\n",
       "      <td>PXD002552</td>\n",
       "      <td>0.000000</td>\n",
       "    </tr>\n",
       "    <tr>\n",
       "      <th>4</th>\n",
       "      <td>PXD006539</td>\n",
       "      <td>PXD011152</td>\n",
       "      <td>0.000000</td>\n",
       "    </tr>\n",
       "    <tr>\n",
       "      <th>...</th>\n",
       "      <td>...</td>\n",
       "      <td>...</td>\n",
       "      <td>...</td>\n",
       "    </tr>\n",
       "    <tr>\n",
       "      <th>404545</th>\n",
       "      <td>PXD002087</td>\n",
       "      <td>PXD005353</td>\n",
       "      <td>0.497725</td>\n",
       "    </tr>\n",
       "    <tr>\n",
       "      <th>404546</th>\n",
       "      <td>PXD002212</td>\n",
       "      <td>PXD002211</td>\n",
       "      <td>0.514724</td>\n",
       "    </tr>\n",
       "    <tr>\n",
       "      <th>404547</th>\n",
       "      <td>PXD002081</td>\n",
       "      <td>PXD002046</td>\n",
       "      <td>0.531152</td>\n",
       "    </tr>\n",
       "    <tr>\n",
       "      <th>404548</th>\n",
       "      <td>PXD002081</td>\n",
       "      <td>PXD002085</td>\n",
       "      <td>0.542056</td>\n",
       "    </tr>\n",
       "    <tr>\n",
       "      <th>404549</th>\n",
       "      <td>PXD021677</td>\n",
       "      <td>PXD004242</td>\n",
       "      <td>0.679811</td>\n",
       "    </tr>\n",
       "  </tbody>\n",
       "</table>\n",
       "<p>404550 rows × 3 columns</p>\n",
       "</div>"
      ],
      "text/plain": [
       "             PID1       PID2  Jaccard_Index\n",
       "0       PXD002434  PXD012611       0.000000\n",
       "1       PXD018291  PXD014062       0.000000\n",
       "2       PXD006539  PXD000050       0.000000\n",
       "3       PXD018291  PXD002552       0.000000\n",
       "4       PXD006539  PXD011152       0.000000\n",
       "...           ...        ...            ...\n",
       "404545  PXD002087  PXD005353       0.497725\n",
       "404546  PXD002212  PXD002211       0.514724\n",
       "404547  PXD002081  PXD002046       0.531152\n",
       "404548  PXD002081  PXD002085       0.542056\n",
       "404549  PXD021677  PXD004242       0.679811\n",
       "\n",
       "[404550 rows x 3 columns]"
      ]
     },
     "execution_count": 8,
     "metadata": {},
     "output_type": "execute_result"
    }
   ],
   "source": [
    "pairs = pd.read_csv(\"train_pairs.txt\")\n",
    "pairs"
   ]
  },
  {
   "cell_type": "code",
   "execution_count": 9,
   "id": "bda91ffa-b165-45a6-bee0-dba5456587ee",
   "metadata": {},
   "outputs": [],
   "source": [
    "from sklearn.model_selection import train_test_split\n",
    "\n",
    "train, test = train_test_split(pairs, test_size=0.2, random_state=42)"
   ]
  },
  {
   "cell_type": "code",
   "execution_count": 10,
   "id": "3cab86ac-3fdb-4393-ac2e-ca560b814fa1",
   "metadata": {},
   "outputs": [
    {
     "data": {
      "text/plain": [
       "array([0.00465116, 0.        , 0.00389105, ..., 0.00345871, 0.0042735 ,\n",
       "       0.00297619])"
      ]
     },
     "execution_count": 10,
     "metadata": {},
     "output_type": "execute_result"
    }
   ],
   "source": [
    "score = train['Jaccard_Index'].values\n",
    "score"
   ]
  },
  {
   "cell_type": "code",
   "execution_count": 11,
   "id": "e27cc290-8890-440a-af8b-2543103e67f5",
   "metadata": {},
   "outputs": [],
   "source": [
    "training_set = []\n",
    "\n",
    "for index, row in train.iterrows():\n",
    "    \n",
    "#    if (row['PID1'] in df.index) and (row['PID2'] in df.index):\n",
    "    \n",
    "    testing = np.vstack(( np.array(df.loc[row['PID1']]), np.array(df.loc[row['PID2']])))\n",
    "    \n",
    "    training_set.append(testing)"
   ]
  },
  {
   "cell_type": "code",
   "execution_count": 12,
   "id": "807905db-7b4d-45a7-a319-870e89e33a64",
   "metadata": {},
   "outputs": [],
   "source": [
    "training_set = np.array(training_set)"
   ]
  },
  {
   "cell_type": "markdown",
   "id": "8961e496-fe0b-4640-9de5-424e47649476",
   "metadata": {},
   "source": [
    "# Setup External Test Data"
   ]
  },
  {
   "cell_type": "code",
   "execution_count": 13,
   "id": "a24befce-e945-4b23-8cb2-adb70bd9cd7d",
   "metadata": {},
   "outputs": [
    {
     "data": {
      "text/html": [
       "<div>\n",
       "<style scoped>\n",
       "    .dataframe tbody tr th:only-of-type {\n",
       "        vertical-align: middle;\n",
       "    }\n",
       "\n",
       "    .dataframe tbody tr th {\n",
       "        vertical-align: top;\n",
       "    }\n",
       "\n",
       "    .dataframe thead th {\n",
       "        text-align: right;\n",
       "    }\n",
       "</style>\n",
       "<table border=\"1\" class=\"dataframe\">\n",
       "  <thead>\n",
       "    <tr style=\"text-align: right;\">\n",
       "      <th></th>\n",
       "      <th>PID1</th>\n",
       "      <th>PID2</th>\n",
       "      <th>Jaccard_Index</th>\n",
       "    </tr>\n",
       "  </thead>\n",
       "  <tbody>\n",
       "    <tr>\n",
       "      <th>0</th>\n",
       "      <td>PXD005184</td>\n",
       "      <td>PXD016001</td>\n",
       "      <td>0.000000</td>\n",
       "    </tr>\n",
       "    <tr>\n",
       "      <th>1</th>\n",
       "      <td>PXD005184</td>\n",
       "      <td>PXD002548</td>\n",
       "      <td>0.000000</td>\n",
       "    </tr>\n",
       "    <tr>\n",
       "      <th>2</th>\n",
       "      <td>PXD018048</td>\n",
       "      <td>PXD017336</td>\n",
       "      <td>0.000000</td>\n",
       "    </tr>\n",
       "    <tr>\n",
       "      <th>3</th>\n",
       "      <td>PXD003105</td>\n",
       "      <td>PXD002548</td>\n",
       "      <td>0.000000</td>\n",
       "    </tr>\n",
       "    <tr>\n",
       "      <th>4</th>\n",
       "      <td>PXD016680</td>\n",
       "      <td>PXD017336</td>\n",
       "      <td>0.000000</td>\n",
       "    </tr>\n",
       "    <tr>\n",
       "      <th>...</th>\n",
       "      <td>...</td>\n",
       "      <td>...</td>\n",
       "      <td>...</td>\n",
       "    </tr>\n",
       "    <tr>\n",
       "      <th>2140</th>\n",
       "      <td>PXD007864</td>\n",
       "      <td>PXD016001</td>\n",
       "      <td>0.203302</td>\n",
       "    </tr>\n",
       "    <tr>\n",
       "      <th>2141</th>\n",
       "      <td>PXD015369</td>\n",
       "      <td>PXD006332</td>\n",
       "      <td>0.209389</td>\n",
       "    </tr>\n",
       "    <tr>\n",
       "      <th>2142</th>\n",
       "      <td>PXD009687</td>\n",
       "      <td>PXD006332</td>\n",
       "      <td>0.228904</td>\n",
       "    </tr>\n",
       "    <tr>\n",
       "      <th>2143</th>\n",
       "      <td>PXD029420</td>\n",
       "      <td>PXD025626</td>\n",
       "      <td>0.232863</td>\n",
       "    </tr>\n",
       "    <tr>\n",
       "      <th>2144</th>\n",
       "      <td>PXD029420</td>\n",
       "      <td>PXD015369</td>\n",
       "      <td>0.247101</td>\n",
       "    </tr>\n",
       "  </tbody>\n",
       "</table>\n",
       "<p>2145 rows × 3 columns</p>\n",
       "</div>"
      ],
      "text/plain": [
       "           PID1       PID2  Jaccard_Index\n",
       "0     PXD005184  PXD016001       0.000000\n",
       "1     PXD005184  PXD002548       0.000000\n",
       "2     PXD018048  PXD017336       0.000000\n",
       "3     PXD003105  PXD002548       0.000000\n",
       "4     PXD016680  PXD017336       0.000000\n",
       "...         ...        ...            ...\n",
       "2140  PXD007864  PXD016001       0.203302\n",
       "2141  PXD015369  PXD006332       0.209389\n",
       "2142  PXD009687  PXD006332       0.228904\n",
       "2143  PXD029420  PXD025626       0.232863\n",
       "2144  PXD029420  PXD015369       0.247101\n",
       "\n",
       "[2145 rows x 3 columns]"
      ]
     },
     "execution_count": 13,
     "metadata": {},
     "output_type": "execute_result"
    }
   ],
   "source": [
    "test2 = pd.read_csv(\"test_pairs.txt\")\n",
    "test2"
   ]
  },
  {
   "cell_type": "code",
   "execution_count": 14,
   "id": "f3fa03fb-1d01-49d9-bc45-3c092daab1e3",
   "metadata": {},
   "outputs": [],
   "source": [
    "testing_set2 = []\n",
    "\n",
    "for index, row in test2.iterrows():\n",
    "    \n",
    "#    if (row['PID1'] in df.index) and (row['PID2'] in df.index):\n",
    "    \n",
    "    testing = np.vstack(( np.array(df.loc[row['PID1']]), np.array(df.loc[row['PID2']] )))\n",
    "    \n",
    "    testing_set2.append(testing)"
   ]
  },
  {
   "cell_type": "code",
   "execution_count": 15,
   "id": "90a41381-2e1e-4c26-bf84-15156e440067",
   "metadata": {},
   "outputs": [],
   "source": [
    "testing_set2 = np.array(testing_set2)\n",
    "testing_score2 = test2['Jaccard_Index']"
   ]
  },
  {
   "cell_type": "markdown",
   "id": "d2da20a5-7626-466e-a2b2-19b989dce79b",
   "metadata": {},
   "source": [
    "# Training"
   ]
  },
  {
   "cell_type": "code",
   "execution_count": 16,
   "id": "a54b1982-3142-4090-ba90-a32debaad4bf",
   "metadata": {},
   "outputs": [
    {
     "name": "stderr",
     "output_type": "stream",
     "text": [
      "/people/shou626/.conda/envs/dl_tf/lib/python3.10/site-packages/tensorflow_addons/utils/ensure_tf_install.py:53: UserWarning: Tensorflow Addons supports using Python ops for all Tensorflow versions above or equal to 2.9.0 and strictly below 2.12.0 (nightly versions are not supported). \n",
      " The versions of TensorFlow you are currently using is 2.8.0 and is not supported. \n",
      "Some things might work, some things might not.\n",
      "If you were to encounter a bug, do not file an issue.\n",
      "If you want to make sure you're using a tested and supported configuration, either change the TensorFlow version or the TensorFlow Addons's version. \n",
      "You can find the compatibility matrix in TensorFlow Addon's readme:\n",
      "https://github.com/tensorflow/addons\n",
      "  warnings.warn(\n"
     ]
    }
   ],
   "source": [
    "from tensorflow_addons.optimizers import RectifiedAdam, LazyAdam"
   ]
  },
  {
   "cell_type": "code",
   "execution_count": 19,
   "id": "f6774811-7e69-4dc0-beb5-e01fcd3f5fbf",
   "metadata": {},
   "outputs": [],
   "source": [
    "model = tf.keras.models.Sequential([\n",
    "    \n",
    "    tf.keras.layers.Conv2D(64, (2, 6), strides=2, activation='relu', padding='same', input_shape=(2,len(df.columns),1)),\n",
    "    tf.keras.layers.Conv2D(64, (2, 6), strides=2, activation='relu', padding='same'),\n",
    "    tf.keras.layers.MaxPooling2D((2, 2), strides=2, padding='same'),\n",
    "    tf.keras.layers.Dropout(0.2),\n",
    "    \n",
    "    tf.keras.layers.Conv2D(32, (2, 6), strides=2, activation='relu', padding='same'),\n",
    "    tf.keras.layers.Conv2D(32, (2, 6), strides=2, activation='relu', padding='same'),\n",
    "    tf.keras.layers.MaxPooling2D((2, 2), strides=2, padding='same'),\n",
    "    tf.keras.layers.Dropout(0.2),\n",
    "    \n",
    "    tf.keras.layers.Flatten(),\n",
    "    \n",
    "    tf.keras.layers.Dense(32, activation='selu',\n",
    "                         kernel_initializer='lecun_normal',\n",
    "#                        activity_regularizer=tf.keras.regularizers.l2(0.01))\n",
    "                        activity_regularizer='l2'), \n",
    "    \n",
    "    tf.keras.layers.Dense(1, activation='sigmoid',\n",
    "                              kernel_initializer='lecun_normal',\n",
    "                              activity_regularizer='l2')\n",
    "                              \n",
    "])"
   ]
  },
  {
   "cell_type": "code",
   "execution_count": 20,
   "id": "1e949226-67c2-45c8-bacc-685fd5d551cb",
   "metadata": {},
   "outputs": [
    {
     "name": "stdout",
     "output_type": "stream",
     "text": [
      "Model: \"sequential_1\"\n",
      "_________________________________________________________________\n",
      " Layer (type)                Output Shape              Param #   \n",
      "=================================================================\n",
      " conv2d_4 (Conv2D)           (None, 1, 900, 64)        832       \n",
      "                                                                 \n",
      " conv2d_5 (Conv2D)           (None, 1, 450, 64)        49216     \n",
      "                                                                 \n",
      " max_pooling2d_2 (MaxPooling  (None, 1, 225, 64)       0         \n",
      " 2D)                                                             \n",
      "                                                                 \n",
      " dropout_2 (Dropout)         (None, 1, 225, 64)        0         \n",
      "                                                                 \n",
      " conv2d_6 (Conv2D)           (None, 1, 113, 32)        24608     \n",
      "                                                                 \n",
      " conv2d_7 (Conv2D)           (None, 1, 57, 32)         12320     \n",
      "                                                                 \n",
      " max_pooling2d_3 (MaxPooling  (None, 1, 29, 32)        0         \n",
      " 2D)                                                             \n",
      "                                                                 \n",
      " dropout_3 (Dropout)         (None, 1, 29, 32)         0         \n",
      "                                                                 \n",
      " flatten_1 (Flatten)         (None, 928)               0         \n",
      "                                                                 \n",
      " dense_2 (Dense)             (None, 32)                29728     \n",
      "                                                                 \n",
      " dense_3 (Dense)             (None, 1)                 33        \n",
      "                                                                 \n",
      "=================================================================\n",
      "Total params: 116,737\n",
      "Trainable params: 116,737\n",
      "Non-trainable params: 0\n",
      "_________________________________________________________________\n"
     ]
    }
   ],
   "source": [
    "model.summary()"
   ]
  },
  {
   "cell_type": "code",
   "execution_count": 21,
   "id": "c8ac76aa-9105-483f-b2b2-02aa32ea80c5",
   "metadata": {
    "scrolled": true,
    "tags": []
   },
   "outputs": [
    {
     "name": "stdout",
     "output_type": "stream",
     "text": [
      "Epoch 1/90\n"
     ]
    },
    {
     "name": "stderr",
     "output_type": "stream",
     "text": [
      "2023-06-19 14:13:44.256569: I tensorflow/stream_executor/cuda/cuda_dnn.cc:368] Loaded cuDNN version 8100\n",
      "2023-06-19 14:13:45.412560: W tensorflow/stream_executor/gpu/asm_compiler.cc:80] Couldn't get ptxas version string: INTERNAL: Running ptxas --version returned 32512\n",
      "2023-06-19 14:13:45.637795: W tensorflow/stream_executor/gpu/redzone_allocator.cc:314] INTERNAL: ptxas exited with non-zero error code 32512, output: \n",
      "Relying on driver to perform ptx compilation. \n",
      "Modify $PATH to customize ptxas location.\n",
      "This message will be only logged once.\n"
     ]
    },
    {
     "name": "stdout",
     "output_type": "stream",
     "text": [
      "633/633 [==============================] - 24s 31ms/step - loss: 0.0740 - MAE: 0.1841 - MSE: 0.0510 - val_loss: 0.0371 - val_MAE: 0.1163 - val_MSE: 0.0141\n",
      "Epoch 2/90\n",
      "633/633 [==============================] - 19s 30ms/step - loss: 0.0324 - MAE: 0.1017 - MSE: 0.0111 - val_loss: 0.0276 - val_MAE: 0.0995 - val_MSE: 0.0105\n",
      "Epoch 3/90\n",
      "633/633 [==============================] - 19s 30ms/step - loss: 0.0243 - MAE: 0.0849 - MSE: 0.0078 - val_loss: 0.0209 - val_MAE: 0.0830 - val_MSE: 0.0074\n",
      "Epoch 4/90\n",
      "633/633 [==============================] - 19s 30ms/step - loss: 0.0188 - MAE: 0.0726 - MSE: 0.0058 - val_loss: 0.0164 - val_MAE: 0.0718 - val_MSE: 0.0056\n",
      "Epoch 5/90\n",
      "633/633 [==============================] - 19s 30ms/step - loss: 0.0149 - MAE: 0.0633 - MSE: 0.0045 - val_loss: 0.0133 - val_MAE: 0.0663 - val_MSE: 0.0048\n",
      "Epoch 6/90\n",
      "633/633 [==============================] - 19s 30ms/step - loss: 0.0121 - MAE: 0.0563 - MSE: 0.0036 - val_loss: 0.0109 - val_MAE: 0.0606 - val_MSE: 0.0041\n",
      "Epoch 7/90\n",
      "633/633 [==============================] - 19s 31ms/step - loss: 0.0100 - MAE: 0.0508 - MSE: 0.0029 - val_loss: 0.0089 - val_MAE: 0.0452 - val_MSE: 0.0023\n",
      "Epoch 8/90\n",
      "633/633 [==============================] - 19s 30ms/step - loss: 0.0084 - MAE: 0.0464 - MSE: 0.0025 - val_loss: 0.0075 - val_MAE: 0.0457 - val_MSE: 0.0024\n",
      "Epoch 9/90\n",
      "633/633 [==============================] - 19s 30ms/step - loss: 0.0071 - MAE: 0.0426 - MSE: 0.0021 - val_loss: 0.0064 - val_MAE: 0.0398 - val_MSE: 0.0018\n",
      "Epoch 10/90\n",
      "633/633 [==============================] - 19s 30ms/step - loss: 0.0061 - MAE: 0.0395 - MSE: 0.0018 - val_loss: 0.0055 - val_MAE: 0.0350 - val_MSE: 0.0015\n",
      "Epoch 11/90\n",
      "633/633 [==============================] - 19s 30ms/step - loss: 0.0052 - MAE: 0.0366 - MSE: 0.0016 - val_loss: 0.0047 - val_MAE: 0.0332 - val_MSE: 0.0013\n",
      "Epoch 12/90\n",
      "633/633 [==============================] - 19s 30ms/step - loss: 0.0045 - MAE: 0.0342 - MSE: 0.0014 - val_loss: 0.0041 - val_MAE: 0.0320 - val_MSE: 0.0013\n",
      "Epoch 13/90\n",
      "633/633 [==============================] - 19s 30ms/step - loss: 0.0039 - MAE: 0.0321 - MSE: 0.0013 - val_loss: 0.0035 - val_MAE: 0.0304 - val_MSE: 0.0011\n",
      "Epoch 14/90\n",
      "633/633 [==============================] - 19s 30ms/step - loss: 0.0034 - MAE: 0.0301 - MSE: 0.0011 - val_loss: 0.0031 - val_MAE: 0.0297 - val_MSE: 0.0011\n",
      "Epoch 15/90\n",
      "633/633 [==============================] - 19s 30ms/step - loss: 0.0030 - MAE: 0.0285 - MSE: 0.0010 - val_loss: 0.0028 - val_MAE: 0.0317 - val_MSE: 0.0013\n",
      "Epoch 16/90\n",
      "633/633 [==============================] - 19s 30ms/step - loss: 0.0026 - MAE: 0.0270 - MSE: 9.2948e-04 - val_loss: 0.0024 - val_MAE: 0.0251 - val_MSE: 8.4096e-04\n",
      "Epoch 17/90\n",
      "633/633 [==============================] - 19s 30ms/step - loss: 0.0023 - MAE: 0.0256 - MSE: 8.5036e-04 - val_loss: 0.0022 - val_MAE: 0.0273 - val_MSE: 9.9274e-04\n",
      "Epoch 18/90\n",
      "633/633 [==============================] - 19s 30ms/step - loss: 0.0020 - MAE: 0.0243 - MSE: 7.8354e-04 - val_loss: 0.0019 - val_MAE: 0.0219 - val_MSE: 6.9557e-04\n",
      "Epoch 19/90\n",
      "633/633 [==============================] - 19s 30ms/step - loss: 0.0018 - MAE: 0.0232 - MSE: 7.2958e-04 - val_loss: 0.0017 - val_MAE: 0.0224 - val_MSE: 7.2328e-04\n",
      "Epoch 20/90\n",
      "633/633 [==============================] - 19s 30ms/step - loss: 0.0016 - MAE: 0.0222 - MSE: 6.8044e-04 - val_loss: 0.0016 - val_MAE: 0.0242 - val_MSE: 8.2447e-04\n",
      "Epoch 21/90\n",
      "633/633 [==============================] - 19s 30ms/step - loss: 0.0014 - MAE: 0.0213 - MSE: 6.3485e-04 - val_loss: 0.0014 - val_MAE: 0.0211 - val_MSE: 6.5936e-04\n",
      "Epoch 22/90\n",
      "633/633 [==============================] - 19s 30ms/step - loss: 0.0013 - MAE: 0.0205 - MSE: 6.0148e-04 - val_loss: 0.0013 - val_MAE: 0.0211 - val_MSE: 6.7366e-04\n",
      "Epoch 23/90\n",
      "633/633 [==============================] - 19s 30ms/step - loss: 0.0012 - MAE: 0.0197 - MSE: 5.7216e-04 - val_loss: 0.0012 - val_MAE: 0.0207 - val_MSE: 6.6315e-04\n",
      "Epoch 24/90\n",
      "633/633 [==============================] - 19s 30ms/step - loss: 0.0011 - MAE: 0.0190 - MSE: 5.4150e-04 - val_loss: 0.0011 - val_MAE: 0.0208 - val_MSE: 6.6620e-04\n",
      "Epoch 25/90\n",
      "633/633 [==============================] - 19s 30ms/step - loss: 9.8013e-04 - MAE: 0.0184 - MSE: 5.2241e-04 - val_loss: 0.0012 - val_MAE: 0.0230 - val_MSE: 8.1639e-04\n",
      "Epoch 26/90\n",
      "633/633 [==============================] - 19s 30ms/step - loss: 9.0021e-04 - MAE: 0.0178 - MSE: 5.0036e-04 - val_loss: 9.3500e-04 - val_MAE: 0.0196 - val_MSE: 6.0744e-04\n",
      "Epoch 27/90\n",
      "633/633 [==============================] - 19s 30ms/step - loss: 8.3229e-04 - MAE: 0.0173 - MSE: 4.8243e-04 - val_loss: 8.9575e-04 - val_MAE: 0.0199 - val_MSE: 6.2232e-04\n",
      "Epoch 28/90\n",
      "633/633 [==============================] - 19s 30ms/step - loss: 7.7211e-04 - MAE: 0.0168 - MSE: 4.6494e-04 - val_loss: 8.3280e-04 - val_MAE: 0.0191 - val_MSE: 5.9114e-04\n",
      "Epoch 29/90\n",
      "633/633 [==============================] - 19s 30ms/step - loss: 7.1902e-04 - MAE: 0.0163 - MSE: 4.4910e-04 - val_loss: 8.1266e-04 - val_MAE: 0.0189 - val_MSE: 5.9688e-04\n",
      "Epoch 30/90\n",
      "633/633 [==============================] - 19s 30ms/step - loss: 6.7527e-04 - MAE: 0.0159 - MSE: 4.3716e-04 - val_loss: 7.6915e-04 - val_MAE: 0.0181 - val_MSE: 5.6941e-04\n",
      "Epoch 31/90\n",
      "633/633 [==============================] - 19s 30ms/step - loss: 6.3284e-04 - MAE: 0.0155 - MSE: 4.2222e-04 - val_loss: 7.1534e-04 - val_MAE: 0.0176 - val_MSE: 5.4268e-04\n",
      "Epoch 32/90\n",
      "633/633 [==============================] - 19s 30ms/step - loss: 6.0017e-04 - MAE: 0.0152 - MSE: 4.1353e-04 - val_loss: 7.5334e-04 - val_MAE: 0.0178 - val_MSE: 5.8972e-04\n",
      "Epoch 33/90\n",
      "633/633 [==============================] - 19s 30ms/step - loss: 5.7087e-04 - MAE: 0.0149 - MSE: 4.0412e-04 - val_loss: 6.6372e-04 - val_MAE: 0.0167 - val_MSE: 5.2079e-04\n",
      "Epoch 34/90\n",
      "633/633 [==============================] - 19s 30ms/step - loss: 5.4296e-04 - MAE: 0.0146 - MSE: 3.9372e-04 - val_loss: 6.6406e-04 - val_MAE: 0.0177 - val_MSE: 5.5324e-04\n",
      "Epoch 35/90\n",
      "633/633 [==============================] - 19s 30ms/step - loss: 5.2049e-04 - MAE: 0.0144 - MSE: 3.8616e-04 - val_loss: 6.2558e-04 - val_MAE: 0.0167 - val_MSE: 5.1851e-04\n",
      "Epoch 36/90\n",
      "633/633 [==============================] - 19s 30ms/step - loss: 4.9842e-04 - MAE: 0.0141 - MSE: 3.7690e-04 - val_loss: 6.1811e-04 - val_MAE: 0.0157 - val_MSE: 5.0531e-04\n",
      "Epoch 37/90\n",
      "633/633 [==============================] - 19s 30ms/step - loss: 4.8241e-04 - MAE: 0.0139 - MSE: 3.7160e-04 - val_loss: 6.1671e-04 - val_MAE: 0.0165 - val_MSE: 5.2800e-04\n",
      "Epoch 38/90\n",
      "633/633 [==============================] - 19s 30ms/step - loss: 4.6589e-04 - MAE: 0.0137 - MSE: 3.6480e-04 - val_loss: 6.0803e-04 - val_MAE: 0.0166 - val_MSE: 5.2967e-04\n",
      "Epoch 39/90\n",
      "633/633 [==============================] - 19s 30ms/step - loss: 4.5266e-04 - MAE: 0.0135 - MSE: 3.5927e-04 - val_loss: 6.2524e-04 - val_MAE: 0.0175 - val_MSE: 5.6210e-04\n",
      "Epoch 40/90\n",
      "633/633 [==============================] - 19s 30ms/step - loss: 4.3888e-04 - MAE: 0.0133 - MSE: 3.5253e-04 - val_loss: 6.1874e-04 - val_MAE: 0.0170 - val_MSE: 5.5753e-04\n",
      "Epoch 41/90\n",
      "633/633 [==============================] - 19s 30ms/step - loss: 4.2993e-04 - MAE: 0.0132 - MSE: 3.4972e-04 - val_loss: 5.8702e-04 - val_MAE: 0.0163 - val_MSE: 5.2644e-04\n",
      "Epoch 42/90\n",
      "633/633 [==============================] - 19s 30ms/step - loss: 4.1807e-04 - MAE: 0.0130 - MSE: 3.4272e-04 - val_loss: 6.7356e-04 - val_MAE: 0.0188 - val_MSE: 6.2495e-04\n",
      "Epoch 43/90\n",
      "633/633 [==============================] - 19s 30ms/step - loss: 4.1137e-04 - MAE: 0.0129 - MSE: 3.4052e-04 - val_loss: 5.6267e-04 - val_MAE: 0.0156 - val_MSE: 5.0786e-04\n",
      "Epoch 44/90\n",
      "633/633 [==============================] - 19s 30ms/step - loss: 4.0178e-04 - MAE: 0.0127 - MSE: 3.3465e-04 - val_loss: 5.9077e-04 - val_MAE: 0.0166 - val_MSE: 5.4585e-04\n",
      "Epoch 45/90\n",
      "633/633 [==============================] - 19s 30ms/step - loss: 3.9811e-04 - MAE: 0.0126 - MSE: 3.3462e-04 - val_loss: 5.6805e-04 - val_MAE: 0.0159 - val_MSE: 5.2084e-04\n",
      "Epoch 46/90\n",
      "633/633 [==============================] - 19s 30ms/step - loss: 3.8836e-04 - MAE: 0.0125 - MSE: 3.2793e-04 - val_loss: 5.9679e-04 - val_MAE: 0.0167 - val_MSE: 5.5586e-04\n",
      "Epoch 47/90\n",
      "633/633 [==============================] - 19s 30ms/step - loss: 3.8334e-04 - MAE: 0.0124 - MSE: 3.2592e-04 - val_loss: 5.6907e-04 - val_MAE: 0.0158 - val_MSE: 5.2655e-04\n",
      "Epoch 48/90\n",
      "633/633 [==============================] - 19s 30ms/step - loss: 3.7953e-04 - MAE: 0.0124 - MSE: 3.2469e-04 - val_loss: 5.4933e-04 - val_MAE: 0.0161 - val_MSE: 5.1484e-04\n",
      "Epoch 49/90\n",
      "633/633 [==============================] - 19s 30ms/step - loss: 3.7166e-04 - MAE: 0.0122 - MSE: 3.1897e-04 - val_loss: 5.5072e-04 - val_MAE: 0.0160 - val_MSE: 5.1616e-04\n",
      "Epoch 50/90\n",
      "633/633 [==============================] - 19s 30ms/step - loss: 3.6756e-04 - MAE: 0.0122 - MSE: 3.1674e-04 - val_loss: 5.4491e-04 - val_MAE: 0.0158 - val_MSE: 5.1068e-04\n",
      "Epoch 51/90\n",
      "633/633 [==============================] - 19s 30ms/step - loss: 3.6243e-04 - MAE: 0.0121 - MSE: 3.1344e-04 - val_loss: 5.6612e-04 - val_MAE: 0.0165 - val_MSE: 5.3469e-04\n",
      "Epoch 52/90\n",
      "633/633 [==============================] - 19s 30ms/step - loss: 3.5886e-04 - MAE: 0.0120 - MSE: 3.1178e-04 - val_loss: 5.5812e-04 - val_MAE: 0.0163 - val_MSE: 5.2674e-04\n",
      "Epoch 53/90\n",
      "633/633 [==============================] - 19s 30ms/step - loss: 3.5616e-04 - MAE: 0.0120 - MSE: 3.1064e-04 - val_loss: 5.4238e-04 - val_MAE: 0.0160 - val_MSE: 5.1384e-04\n",
      "Epoch 54/90\n",
      "633/633 [==============================] - 19s 30ms/step - loss: 3.5232e-04 - MAE: 0.0119 - MSE: 3.0806e-04 - val_loss: 5.3908e-04 - val_MAE: 0.0155 - val_MSE: 5.0883e-04\n",
      "Epoch 55/90\n",
      "633/633 [==============================] - 19s 30ms/step - loss: 3.4808e-04 - MAE: 0.0118 - MSE: 3.0488e-04 - val_loss: 5.6037e-04 - val_MAE: 0.0162 - val_MSE: 5.3236e-04\n",
      "Epoch 56/90\n",
      "633/633 [==============================] - 19s 30ms/step - loss: 3.4360e-04 - MAE: 0.0117 - MSE: 3.0150e-04 - val_loss: 5.5504e-04 - val_MAE: 0.0158 - val_MSE: 5.2645e-04\n",
      "Epoch 57/90\n",
      "633/633 [==============================] - 19s 30ms/step - loss: 3.4323e-04 - MAE: 0.0117 - MSE: 3.0219e-04 - val_loss: 5.4020e-04 - val_MAE: 0.0153 - val_MSE: 5.1390e-04\n",
      "Epoch 58/90\n",
      "633/633 [==============================] - 19s 30ms/step - loss: 3.3779e-04 - MAE: 0.0116 - MSE: 2.9771e-04 - val_loss: 5.3719e-04 - val_MAE: 0.0157 - val_MSE: 5.1161e-04\n",
      "Epoch 59/90\n",
      "633/633 [==============================] - 19s 30ms/step - loss: 3.3825e-04 - MAE: 0.0116 - MSE: 2.9874e-04 - val_loss: 5.2680e-04 - val_MAE: 0.0154 - val_MSE: 5.0124e-04\n",
      "Epoch 60/90\n",
      "633/633 [==============================] - 19s 30ms/step - loss: 3.3589e-04 - MAE: 0.0116 - MSE: 2.9727e-04 - val_loss: 5.3143e-04 - val_MAE: 0.0152 - val_MSE: 5.0689e-04\n",
      "Epoch 61/90\n",
      "633/633 [==============================] - 19s 30ms/step - loss: 3.3306e-04 - MAE: 0.0115 - MSE: 2.9510e-04 - val_loss: 5.3594e-04 - val_MAE: 0.0153 - val_MSE: 5.1111e-04\n",
      "Epoch 62/90\n",
      "633/633 [==============================] - 19s 30ms/step - loss: 3.2967e-04 - MAE: 0.0115 - MSE: 2.9215e-04 - val_loss: 5.3386e-04 - val_MAE: 0.0155 - val_MSE: 5.1009e-04\n",
      "Epoch 63/90\n",
      "633/633 [==============================] - 19s 30ms/step - loss: 3.2598e-04 - MAE: 0.0114 - MSE: 2.8903e-04 - val_loss: 5.6640e-04 - val_MAE: 0.0164 - val_MSE: 5.4221e-04\n",
      "Epoch 64/90\n",
      "633/633 [==============================] - 19s 30ms/step - loss: 3.2354e-04 - MAE: 0.0113 - MSE: 2.8689e-04 - val_loss: 5.3885e-04 - val_MAE: 0.0153 - val_MSE: 5.1490e-04\n",
      "Epoch 65/90\n",
      "633/633 [==============================] - 19s 30ms/step - loss: 3.2355e-04 - MAE: 0.0113 - MSE: 2.8745e-04 - val_loss: 5.5504e-04 - val_MAE: 0.0154 - val_MSE: 5.3292e-04\n",
      "Epoch 66/90\n",
      "633/633 [==============================] - 19s 30ms/step - loss: 3.2236e-04 - MAE: 0.0113 - MSE: 2.8657e-04 - val_loss: 5.2854e-04 - val_MAE: 0.0152 - val_MSE: 5.0606e-04\n",
      "Epoch 67/90\n",
      "633/633 [==============================] - 19s 30ms/step - loss: 3.2004e-04 - MAE: 0.0112 - MSE: 2.8456e-04 - val_loss: 5.2357e-04 - val_MAE: 0.0151 - val_MSE: 5.0204e-04\n",
      "Epoch 68/90\n",
      "633/633 [==============================] - 19s 31ms/step - loss: 3.1475e-04 - MAE: 0.0112 - MSE: 2.7961e-04 - val_loss: 5.4185e-04 - val_MAE: 0.0159 - val_MSE: 5.1987e-04\n",
      "Epoch 69/90\n",
      "633/633 [==============================] - 19s 31ms/step - loss: 3.1375e-04 - MAE: 0.0111 - MSE: 2.7907e-04 - val_loss: 5.4074e-04 - val_MAE: 0.0155 - val_MSE: 5.1944e-04\n",
      "Epoch 70/90\n",
      "633/633 [==============================] - 19s 31ms/step - loss: 3.1367e-04 - MAE: 0.0111 - MSE: 2.7906e-04 - val_loss: 5.3780e-04 - val_MAE: 0.0156 - val_MSE: 5.1756e-04\n",
      "Epoch 71/90\n",
      "633/633 [==============================] - 19s 30ms/step - loss: 3.1264e-04 - MAE: 0.0111 - MSE: 2.7850e-04 - val_loss: 5.2682e-04 - val_MAE: 0.0153 - val_MSE: 5.0732e-04\n",
      "Epoch 72/90\n",
      "633/633 [==============================] - 19s 31ms/step - loss: 3.0985e-04 - MAE: 0.0110 - MSE: 2.7598e-04 - val_loss: 5.5188e-04 - val_MAE: 0.0161 - val_MSE: 5.2966e-04\n",
      "Epoch 73/90\n",
      "633/633 [==============================] - 19s 31ms/step - loss: 3.0877e-04 - MAE: 0.0110 - MSE: 2.7503e-04 - val_loss: 5.3734e-04 - val_MAE: 0.0150 - val_MSE: 5.1675e-04\n",
      "Epoch 74/90\n",
      "633/633 [==============================] - 19s 31ms/step - loss: 3.0904e-04 - MAE: 0.0110 - MSE: 2.7563e-04 - val_loss: 5.4497e-04 - val_MAE: 0.0156 - val_MSE: 5.2429e-04\n",
      "Epoch 75/90\n",
      "633/633 [==============================] - 19s 31ms/step - loss: 3.0748e-04 - MAE: 0.0110 - MSE: 2.7425e-04 - val_loss: 5.3981e-04 - val_MAE: 0.0155 - val_MSE: 5.1791e-04\n",
      "Epoch 76/90\n",
      "633/633 [==============================] - 19s 30ms/step - loss: 3.0595e-04 - MAE: 0.0109 - MSE: 2.7296e-04 - val_loss: 5.4266e-04 - val_MAE: 0.0161 - val_MSE: 5.2073e-04\n",
      "Epoch 77/90\n",
      "633/633 [==============================] - 19s 30ms/step - loss: 3.0527e-04 - MAE: 0.0109 - MSE: 2.7239e-04 - val_loss: 5.3411e-04 - val_MAE: 0.0152 - val_MSE: 5.1504e-04\n",
      "Epoch 78/90\n",
      "633/633 [==============================] - 19s 30ms/step - loss: 3.0227e-04 - MAE: 0.0108 - MSE: 2.6950e-04 - val_loss: 5.2984e-04 - val_MAE: 0.0155 - val_MSE: 5.1015e-04\n",
      "Epoch 79/90\n",
      "633/633 [==============================] - 19s 30ms/step - loss: 3.0221e-04 - MAE: 0.0108 - MSE: 2.6968e-04 - val_loss: 5.4732e-04 - val_MAE: 0.0159 - val_MSE: 5.2653e-04\n",
      "Epoch 80/90\n",
      "633/633 [==============================] - 19s 31ms/step - loss: 3.0378e-04 - MAE: 0.0109 - MSE: 2.7152e-04 - val_loss: 5.5214e-04 - val_MAE: 0.0161 - val_MSE: 5.3174e-04\n",
      "Epoch 81/90\n",
      "633/633 [==============================] - 19s 31ms/step - loss: 2.9849e-04 - MAE: 0.0108 - MSE: 2.6621e-04 - val_loss: 5.4471e-04 - val_MAE: 0.0152 - val_MSE: 5.2621e-04\n",
      "Epoch 82/90\n",
      "633/633 [==============================] - 19s 31ms/step - loss: 2.9901e-04 - MAE: 0.0108 - MSE: 2.6692e-04 - val_loss: 5.5123e-04 - val_MAE: 0.0160 - val_MSE: 5.3218e-04\n",
      "Epoch 83/90\n",
      "633/633 [==============================] - 19s 31ms/step - loss: 2.9888e-04 - MAE: 0.0108 - MSE: 2.6704e-04 - val_loss: 5.3114e-04 - val_MAE: 0.0155 - val_MSE: 5.1206e-04\n",
      "Epoch 84/90\n",
      "633/633 [==============================] - 19s 30ms/step - loss: 2.9555e-04 - MAE: 0.0107 - MSE: 2.6383e-04 - val_loss: 5.4579e-04 - val_MAE: 0.0158 - val_MSE: 5.2721e-04\n",
      "Epoch 85/90\n",
      "633/633 [==============================] - 19s 31ms/step - loss: 2.9633e-04 - MAE: 0.0107 - MSE: 2.6472e-04 - val_loss: 5.4688e-04 - val_MAE: 0.0151 - val_MSE: 5.2924e-04\n",
      "Epoch 86/90\n",
      "633/633 [==============================] - 19s 31ms/step - loss: 2.9496e-04 - MAE: 0.0107 - MSE: 2.6349e-04 - val_loss: 5.4072e-04 - val_MAE: 0.0152 - val_MSE: 5.2294e-04\n",
      "Epoch 87/90\n",
      "633/633 [==============================] - 19s 31ms/step - loss: 2.9336e-04 - MAE: 0.0106 - MSE: 2.6191e-04 - val_loss: 5.3242e-04 - val_MAE: 0.0155 - val_MSE: 5.1227e-04\n",
      "Epoch 88/90\n",
      "633/633 [==============================] - 19s 31ms/step - loss: 2.9125e-04 - MAE: 0.0106 - MSE: 2.5986e-04 - val_loss: 5.5290e-04 - val_MAE: 0.0156 - val_MSE: 5.3425e-04\n",
      "Epoch 89/90\n",
      "633/633 [==============================] - 19s 31ms/step - loss: 2.9144e-04 - MAE: 0.0106 - MSE: 2.6036e-04 - val_loss: 5.3474e-04 - val_MAE: 0.0152 - val_MSE: 5.1597e-04\n",
      "Epoch 90/90\n",
      "633/633 [==============================] - 19s 30ms/step - loss: 2.8878e-04 - MAE: 0.0105 - MSE: 2.5763e-04 - val_loss: 5.3088e-04 - val_MAE: 0.0151 - val_MSE: 5.1221e-04\n"
     ]
    }
   ],
   "source": [
    "#optimization = RectifiedAdam(learning_rate=0.0002)\n",
    "optimization = RectifiedAdam(learning_rate=0.0002)\n",
    "\n",
    "model.compile(loss=tf.keras.losses.MeanSquaredError(),\n",
    "                    optimizer=optimization,\n",
    "                    metrics=['MAE', 'MSE'])\n",
    "\n",
    "history = model.fit(training_set, score, epochs=90, batch_size=512,\n",
    "#                    callbacks=[my_val_callback]\n",
    "                    validation_data=(testing_set2, testing_score2))"
   ]
  },
  {
   "cell_type": "markdown",
   "id": "0f8208f8-d1a5-4fac-9726-ae7ad7023a50",
   "metadata": {},
   "source": [
    "# Measure Pearson of External set"
   ]
  },
  {
   "cell_type": "code",
   "execution_count": 23,
   "id": "8dda4bdf-04dc-4f52-97d8-5623fb5d630c",
   "metadata": {},
   "outputs": [],
   "source": [
    "predicted_external = model.predict(testing_set2)\n",
    "predicted_external = [i[0] for i in predicted_external]"
   ]
  },
  {
   "cell_type": "code",
   "execution_count": 25,
   "id": "adec7b17-7bb6-4a55-9fe2-4c6179d5c7e3",
   "metadata": {},
   "outputs": [
    {
     "data": {
      "text/plain": [
       "PearsonRResult(statistic=0.59266772942201, pvalue=1.2603273519438061e-203)"
      ]
     },
     "execution_count": 25,
     "metadata": {},
     "output_type": "execute_result"
    }
   ],
   "source": [
    "from scipy import stats\n",
    "\n",
    "stats.pearsonr(testing_score2, predicted_external)"
   ]
  },
  {
   "cell_type": "markdown",
   "id": "8258f306-d99c-436b-b174-92e4bab2ecc3",
   "metadata": {},
   "source": [
    "# Save Model"
   ]
  },
  {
   "cell_type": "code",
   "execution_count": 26,
   "id": "edcf6a2d-6593-4cdc-8354-9c24ef098669",
   "metadata": {},
   "outputs": [
    {
     "name": "stderr",
     "output_type": "stream",
     "text": [
      "2023-06-19 14:43:48.233658: W tensorflow/python/util/util.cc:368] Sets are not currently considered sequences, but this may change in the future, so consider avoiding using them.\n"
     ]
    },
    {
     "name": "stdout",
     "output_type": "stream",
     "text": [
      "INFO:tensorflow:Assets written to: CNN-FINAL/assets\n"
     ]
    }
   ],
   "source": [
    "model.save(\"CNN-FINAL\")"
   ]
  },
  {
   "cell_type": "code",
   "execution_count": 27,
   "id": "7d167b45-4874-439c-bbc7-65d9c44a6209",
   "metadata": {},
   "outputs": [],
   "source": [
    "model.save('CNN-FINAL.h5')"
   ]
  },
  {
   "cell_type": "markdown",
   "id": "5c3d1319-6485-4b00-b352-740785244960",
   "metadata": {},
   "source": [
    "# Validation"
   ]
  },
  {
   "cell_type": "code",
   "execution_count": 28,
   "id": "b701963f-b0a1-4d17-b62f-e77a2b0843d4",
   "metadata": {},
   "outputs": [
    {
     "data": {
      "image/png": "[encoded data removed]",
      "text/plain": [
       "<Figure size 576x432 with 1 Axes>"
      ]
     },
     "metadata": {},
     "output_type": "display_data"
    }
   ],
   "source": [
    "import matplotlib\n",
    "import matplotlib.pyplot as plt\n",
    "%matplotlib inline\n",
    "# construct a plot that plots and displays the training history\n",
    "N = np.arange(0, 90)\n",
    "plt.style.use(\"ggplot\")\n",
    "plt.figure(figsize=(8,6))\n",
    "plt.plot(N, history.history[\"loss\"], label=\"Training Set\")\n",
    "plt.plot(N, history.history[\"val_loss\"], label=\"External Test Set\")\n",
    "#plt.plot(N, ext_val, label=\"external_validation\")\n",
    "plt.title(\"Training Loss and Accuracy\")\n",
    "plt.xlabel(\"Epoch #\")\n",
    "plt.ylabel(\"MSE\")\n",
    "plt.legend(loc=\"upper right\")\n",
    "plt.savefig(\"validation_cnn.png\")\n",
    "plt.show(block=True)"
   ]
  },
  {
   "cell_type": "code",
   "execution_count": 29,
   "id": "bf558605-9a34-4cb8-8bc7-5500a50d2322",
   "metadata": {},
   "outputs": [
    {
     "data": {
      "text/plain": [
       "0.00051220716"
      ]
     },
     "execution_count": 29,
     "metadata": {},
     "output_type": "execute_result"
    }
   ],
   "source": [
    "mse = tf.keras.losses.MeanSquaredError()\n",
    "\n",
    "mse(testing_score2, predicted_external).numpy()"
   ]
  },
  {
   "cell_type": "code",
   "execution_count": 30,
   "id": "4f079c4a-c603-496a-bc47-d64d2c4af865",
   "metadata": {},
   "outputs": [
    {
     "data": {
      "text/plain": [
       "0.01508571"
      ]
     },
     "execution_count": 30,
     "metadata": {},
     "output_type": "execute_result"
    }
   ],
   "source": [
    "tf.metrics.MAE(testing_score2, predicted_external).numpy()"
   ]
  },
  {
   "cell_type": "code",
   "execution_count": null,
   "id": "d62fb789-ae1b-42f2-bbc7-db5430f0efa8",
   "metadata": {},
   "outputs": [],
   "source": []
  },
  {
   "cell_type": "code",
   "execution_count": 31,
   "id": "2353fa9e-35f4-4929-ae35-c90b745fe84a",
   "metadata": {},
   "outputs": [
    {
     "data": {
      "image/png": "[encoded data removed]",
      "text/plain": [
       "<Figure size 576x432 with 1 Axes>"
      ]
     },
     "metadata": {},
     "output_type": "display_data"
    }
   ],
   "source": [
    "import matplotlib\n",
    "import matplotlib.pyplot as plt\n",
    "%matplotlib inline\n",
    "# construct a plot that plots and displays the training history\n",
    "N = np.arange(0, 90)\n",
    "plt.style.use(\"ggplot\")\n",
    "plt.figure(figsize=(8,6))\n",
    "plt.plot(N, history.history[\"loss\"], label=\"Training Set\")\n",
    "plt.plot(N, history.history[\"val_loss\"], label=\"External Test Set\")\n",
    "#plt.plot(N, ext_val, label=\"external_validation\")\n",
    "plt.title(\"Training Loss and Accuracy\")\n",
    "plt.xlabel(\"Epoch #\")\n",
    "plt.ylabel(\"MSE\")\n",
    "plt.legend(loc=\"upper right\")\n",
    "plt.savefig(\"validation_cnn.png\")\n",
    "plt.show(block=True)"
   ]
  },
  {
   "cell_type": "markdown",
   "id": "623b37a0-eb70-41e2-ac65-07c638313a61",
   "metadata": {},
   "source": [
    "# Predict Training Set"
   ]
  },
  {
   "cell_type": "code",
   "execution_count": 32,
   "id": "3dc34037-9541-438c-a681-469523692707",
   "metadata": {},
   "outputs": [],
   "source": [
    "predicted_training = model.predict(training_set)\n",
    "predicted_training = [i[0] for i in predicted_training]"
   ]
  },
  {
   "cell_type": "markdown",
   "id": "1be80d4e-3cbe-4d61-96d9-13a48f6a1d99",
   "metadata": {},
   "source": [
    "# Predict for Validation Set"
   ]
  },
  {
   "cell_type": "code",
   "execution_count": 33,
   "id": "a54ddfd6-6155-4b4b-92fc-a7dd44ae363a",
   "metadata": {},
   "outputs": [],
   "source": [
    "testing_set = []\n",
    "\n",
    "for index, row in test.iterrows():\n",
    "    \n",
    "#    if (row['PID1'] in df.index) and (row['PID2'] in df.index):\n",
    "    \n",
    "    testing = np.vstack(( np.array(df.loc[row['PID1']]), np.array(df.loc[row['PID2']])))\n",
    "    \n",
    "    testing_set.append(testing)"
   ]
  },
  {
   "cell_type": "code",
   "execution_count": 34,
   "id": "c5d40cc9-5b04-4d8f-bb90-d0a64c1cba6d",
   "metadata": {},
   "outputs": [],
   "source": [
    "test_score = test[\"Jaccard_Index\"].values\n",
    "testing_set = np.array(testing_set)"
   ]
  },
  {
   "cell_type": "code",
   "execution_count": 35,
   "id": "4b174e9a-d4ed-4877-bbdb-d6a193a56cf2",
   "metadata": {},
   "outputs": [],
   "source": [
    "predicted_testing = model.predict(testing_set)\n",
    "predicted_testing = [i[0] for i in predicted_testing]"
   ]
  },
  {
   "cell_type": "code",
   "execution_count": null,
   "id": "f1cf4aa6-8773-4b30-ae63-9c8fc74c1f9f",
   "metadata": {},
   "outputs": [],
   "source": []
  },
  {
   "cell_type": "code",
   "execution_count": 36,
   "id": "10497137-cb25-40d3-bcf6-1286814cf0a5",
   "metadata": {},
   "outputs": [
    {
     "data": {
      "image/png": "[encoded data removed]",
      "text/plain": [
       "<Figure size 640x640 with 1 Axes>"
      ]
     },
     "metadata": {},
     "output_type": "display_data"
    }
   ],
   "source": [
    "import matplotlib\n",
    "import matplotlib.pyplot as plt\n",
    "%matplotlib inline\n",
    "# construct a plot that plots and displays the training history\n",
    "plt.style.use(\"classic\")\n",
    "plt.figure(figsize=(8,8))\n",
    "plt.scatter(predicted_training, score, label=\"Training Set\", c='b', edgecolors=\"None\")\n",
    "plt.scatter(predicted_testing, test_score, label=\"Validation Set\", c='g', edgecolors=\"None\")\n",
    "plt.scatter(predicted_external, testing_score2, label=\"External Test Set\", c='r', edgecolors=\"None\")\n",
    "plt.xlim(0,0.7)\n",
    "plt.ylim(0,0.7)\n",
    "plt.title(\"Training Loss and Accuracy\")\n",
    "plt.xlabel(\"Predicted Similarity\")\n",
    "plt.ylabel(\"Ground Truth\")\n",
    "plt.legend(loc=\"upper right\")\n",
    "#plt.savefig(\"cnn_all.png\")\n",
    "plt.show(block=True)"
   ]
  },
  {
   "cell_type": "code",
   "execution_count": null,
   "id": "f69163a2-75e8-49d8-8748-437927540e9f",
   "metadata": {},
   "outputs": [],
   "source": []
  },
  {
   "cell_type": "markdown",
   "id": "f8b2e651-bdca-4403-8fb8-9199559057a5",
   "metadata": {},
   "source": [
    "# Pearson for all"
   ]
  },
  {
   "cell_type": "code",
   "execution_count": 37,
   "id": "65206aac-fb39-460b-b5e8-9d12e86e5d80",
   "metadata": {},
   "outputs": [
    {
     "name": "stdout",
     "output_type": "stream",
     "text": [
      "pearson PearsonRResult(statistic=0.9006981753019232, pvalue=0.0)\n"
     ]
    }
   ],
   "source": [
    "all_predicted = predicted_training + predicted_testing + predicted_external\n",
    "all_truth = list(score) + list(test_score) + list(testing_score2)\n",
    "\n",
    "print(\"pearson\", stats.pearsonr(all_predicted, all_truth))"
   ]
  },
  {
   "cell_type": "code",
   "execution_count": null,
   "id": "b0c5fce7-2c6d-4974-80ba-a5f18994b87f",
   "metadata": {},
   "outputs": [],
   "source": []
  }
 ],
 "metadata": {
  "kernelspec": {
   "display_name": "Python 3 (ipykernel)",
   "language": "python",
   "name": "python3"
  },
  "language_info": {
   "codemirror_mode": {
    "name": "ipython",
    "version": 3
   },
   "file_extension": ".py",
   "mimetype": "text/x-python",
   "name": "python",
   "nbconvert_exporter": "python",
   "pygments_lexer": "ipython3",
   "version": "3.10.9"
  }
 },
 "nbformat": 4,
 "nbformat_minor": 5
}
